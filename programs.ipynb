{
  "cells": [
    {
      "cell_type": "markdown",
      "metadata": {
        "id": "VqAqVK3jIqDk"
      },
      "source": [
        "My First Program\n"
      ]
    },
    {
      "cell_type": "code",
      "execution_count": null,
      "metadata": {
        "colab": {
          "base_uri": "https://localhost:8080/"
        },
        "id": "RRkVGcrAJfJ9",
        "outputId": "3246da9e-2ed0-4dda-d5c8-95ab1245d673"
      },
      "outputs": [
        {
          "name": "stdout",
          "output_type": "stream",
          "text": [
            "Rashmi\n"
          ]
        }
      ],
      "source": [
        "print(\"Rashmi\")"
      ]
    },
    {
      "cell_type": "code",
      "execution_count": null,
      "metadata": {
        "colab": {
          "base_uri": "https://localhost:8080/"
        },
        "id": "KYoPi2AxKGhr",
        "outputId": "f55e7ba8-56b2-4f2c-dea4-b5e1a1f37ef2"
      },
      "outputs": [
        {
          "name": "stdout",
          "output_type": "stream",
          "text": [
            "13\n"
          ]
        }
      ],
      "source": [
        "a=5\n",
        "b=8\n",
        "sum=a+b\n",
        "print(sum)"
      ]
    },
    {
      "cell_type": "code",
      "execution_count": null,
      "metadata": {
        "colab": {
          "base_uri": "https://localhost:8080/"
        },
        "id": "AVot4K3MKOnQ",
        "outputId": "1a092901-feff-403a-cfbd-d3513a389c64"
      },
      "outputs": [
        {
          "name": "stdout",
          "output_type": "stream",
          "text": [
            "Sahana\n"
          ]
        }
      ],
      "source": [
        "print(\"Sahana\")"
      ]
    },
    {
      "cell_type": "code",
      "execution_count": null,
      "metadata": {
        "colab": {
          "base_uri": "https://localhost:8080/"
        },
        "id": "uuYVUVrPMiYb",
        "outputId": "7e963f61-914e-47e0-b9e3-c4f04677c31e"
      },
      "outputs": [
        {
          "name": "stdout",
          "output_type": "stream",
          "text": [
            "<class 'str'>\n"
          ]
        }
      ],
      "source": [
        "name = \"Sahana\"\n",
        "print(type(name))"
      ]
    },
    {
      "cell_type": "code",
      "execution_count": null,
      "metadata": {
        "colab": {
          "base_uri": "https://localhost:8080/"
        },
        "id": "_hj8I59NMpvT",
        "outputId": "b4249f41-603e-4b41-b38b-6cd6baff6d52"
      },
      "outputs": [
        {
          "name": "stdout",
          "output_type": "stream",
          "text": [
            "<class 'str'>\n"
          ]
        }
      ],
      "source": [
        "name = \"Rash & Saha\"\n",
        "print(type(name))\n"
      ]
    },
    {
      "cell_type": "code",
      "execution_count": null,
      "metadata": {
        "colab": {
          "base_uri": "https://localhost:8080/"
        },
        "id": "2E4rzMqdejFs",
        "outputId": "f9a93a13-5515-4ff8-9fe6-820b819e7a8a"
      },
      "outputs": [
        {
          "name": "stdout",
          "output_type": "stream",
          "text": [
            "sum\n"
          ]
        }
      ],
      "source": [
        "num1=12\n",
        "num2=13\n",
        "sub=num1-num2\n",
        "print(\"sum\")"
      ]
    },
    {
      "cell_type": "code",
      "execution_count": null,
      "metadata": {
        "colab": {
          "base_uri": "https://localhost:8080/"
        },
        "id": "FTKeWqczeyKk",
        "outputId": "f5bfed9c-45c4-4c0d-80c7-67fe213b96dc"
      },
      "outputs": [
        {
          "name": "stdout",
          "output_type": "stream",
          "text": [
            "<built-in function sum>\n"
          ]
        }
      ],
      "source": [
        "num1=12\n",
        "num2=13\n",
        "sub=num1-num2\n",
        "print(sum)"
      ]
    },
    {
      "cell_type": "code",
      "execution_count": null,
      "metadata": {
        "colab": {
          "base_uri": "https://localhost:8080/"
        },
        "id": "nKvOHWqke7_8",
        "outputId": "2b1e121d-37a3-43ee-d26b-6bbeb267f7ee"
      },
      "outputs": [
        {
          "name": "stdout",
          "output_type": "stream",
          "text": [
            "<built-in function sum>\n"
          ]
        }
      ],
      "source": [
        "numm=12\n",
        "num=13\n",
        "sub=numm-num\n",
        "print(sum)"
      ]
    },
    {
      "cell_type": "code",
      "execution_count": null,
      "metadata": {
        "colab": {
          "base_uri": "https://localhost:8080/"
        },
        "id": "5R9faeuMfE3M",
        "outputId": "86dc084e-8f27-4641-806a-0aacb99d9247"
      },
      "outputs": [
        {
          "name": "stdout",
          "output_type": "stream",
          "text": [
            "-15\n"
          ]
        }
      ],
      "source": [
        "numm=12\n",
        "num=13\n",
        "nummm=14\n",
        "sub=numm-num-nummm\n",
        "print(sub)"
      ]
    },
    {
      "cell_type": "code",
      "execution_count": null,
      "metadata": {
        "colab": {
          "base_uri": "https://localhost:8080/"
        },
        "id": "nqOZn9qWfgNF",
        "outputId": "512d27a1-7615-4e4e-aad7-9c9530437031"
      },
      "outputs": [
        {
          "name": "stdout",
          "output_type": "stream",
          "text": [
            "156\n"
          ]
        }
      ],
      "source": [
        "numm=12\n",
        "num=13\n",
        "mul=num*numm\n",
        "print(mul)"
      ]
    },
    {
      "cell_type": "code",
      "execution_count": null,
      "metadata": {
        "colab": {
          "base_uri": "https://localhost:8080/"
        },
        "id": "-pCZJe0VmLmW",
        "outputId": "0c9822ab-7490-496b-c6e9-84bf98771bef"
      },
      "outputs": [
        {
          "name": "stdout",
          "output_type": "stream",
          "text": [
            "1\n"
          ]
        }
      ],
      "source": [
        "numm=12\n",
        "num=13\n",
        "rem=num%numm\n",
        "print(rem)"
      ]
    },
    {
      "cell_type": "code",
      "execution_count": null,
      "metadata": {
        "colab": {
          "base_uri": "https://localhost:8080/"
        },
        "id": "oJTb47gPmZ5-",
        "outputId": "6f15a93a-aa43-4637-a90e-43a4986ad9ef"
      },
      "outputs": [
        {
          "name": "stdout",
          "output_type": "stream",
          "text": [
            "1.0833333333333333\n"
          ]
        }
      ],
      "source": [
        "numm=12\n",
        "num=13\n",
        "div=num/numm\n",
        "print(div)"
      ]
    },
    {
      "cell_type": "code",
      "execution_count": null,
      "metadata": {
        "colab": {
          "base_uri": "https://localhost:8080/"
        },
        "id": "A3itByhemhwh",
        "outputId": "d2238e9b-8617-47cf-963e-957f270cae57"
      },
      "outputs": [
        {
          "name": "stdout",
          "output_type": "stream",
          "text": [
            "1\n"
          ]
        }
      ],
      "source": [
        "numm=12\n",
        "num=13\n",
        "div=int(num/numm)\n",
        "print(div)"
      ]
    },
    {
      "cell_type": "code",
      "execution_count": null,
      "metadata": {
        "colab": {
          "base_uri": "https://localhost:8080/"
        },
        "id": "sqjPagAynTfH",
        "outputId": "89b6aa24-7fe3-4718-e589-617ba3cf589f"
      },
      "outputs": [
        {
          "name": "stdout",
          "output_type": "stream",
          "text": [
            "square root of a number is 3.873\n"
          ]
        }
      ],
      "source": [
        "num=15\n",
        "sqrt=num**0.5\n",
        "print('square root of a number is %0.3f'%(sqrt))\n"
      ]
    },
    {
      "cell_type": "code",
      "execution_count": null,
      "metadata": {
        "colab": {
          "base_uri": "https://localhost:8080/"
        },
        "id": "Zp903Twxoamr",
        "outputId": "84ef6453-23ba-447f-9840-ae96a4f2bf23"
      },
      "outputs": [
        {
          "name": "stdout",
          "output_type": "stream",
          "text": [
            "225\n"
          ]
        }
      ],
      "source": [
        "num=15\n",
        "numsqr=num**2\n",
        "print(numsqr)"
      ]
    },
    {
      "cell_type": "code",
      "execution_count": null,
      "metadata": {
        "colab": {
          "base_uri": "https://localhost:8080/"
        },
        "id": "NMNVR8pWo70K",
        "outputId": "2c3741d9-ab3d-4979-8a12-f1d2c353d506"
      },
      "outputs": [
        {
          "name": "stdout",
          "output_type": "stream",
          "text": [
            "<class 'str'>\n"
          ]
        }
      ],
      "source": [
        "name=\"Rashmi\"\n",
        "print(type(name))"
      ]
    },
    {
      "cell_type": "code",
      "execution_count": null,
      "metadata": {
        "colab": {
          "base_uri": "https://localhost:8080/"
        },
        "id": "I-71G4pGrg6r",
        "outputId": "597a7034-0b8a-4bb1-df1b-da84ebc8ef67"
      },
      "outputs": [
        {
          "name": "stdout",
          "output_type": "stream",
          "text": [
            "<class 'str'>\n"
          ]
        }
      ],
      "source": [
        "name=\"Ras  hmi & 12345\"\n",
        "print(type(name))"
      ]
    },
    {
      "cell_type": "code",
      "execution_count": null,
      "metadata": {
        "colab": {
          "base_uri": "https://localhost:8080/"
        },
        "id": "BRwO46zZrnz6",
        "outputId": "7f453232-218e-44ee-a567-93082b930562"
      },
      "outputs": [
        {
          "name": "stdout",
          "output_type": "stream",
          "text": [
            "<class 'int'>\n",
            "<class 'complex'>\n",
            "<class 'float'>\n",
            "<class 'int'>\n"
          ]
        }
      ],
      "source": [
        "num1=12\n",
        "num2=12.345\n",
        "num3=4j\n",
        "print(type(num1))\n",
        "print(type(num3))\n",
        "print(type(num2))\n",
        "num4=-99\n",
        "print(type(num4))"
      ]
    },
    {
      "cell_type": "code",
      "execution_count": null,
      "metadata": {
        "colab": {
          "base_uri": "https://localhost:8080/"
        },
        "id": "XpYN96CosZoz",
        "outputId": "986932fa-2ac2-4422-f0ea-bcdffe599c9a"
      },
      "outputs": [
        {
          "name": "stdout",
          "output_type": "stream",
          "text": [
            "171.2637\n",
            "sum of num2 and num2 26.22\n",
            "sqrt of a num1 is 3.5114099732158874\n",
            "square of number1 is 152.0289\n"
          ]
        }
      ],
      "source": [
        "num1=12.33\n",
        "num2=13.89\n",
        "mul=num1*num2\n",
        "print(mul)\n",
        "add=num1+num2\n",
        "print('sum of num2 and num2',add)\n",
        "sqrt=num1**0.5\n",
        "print('sqrt of a num1 is',(sqrt))\n",
        "square=num1**2\n",
        "print('square of number1 is',(square))"
      ]
    },
    {
      "cell_type": "code",
      "execution_count": null,
      "metadata": {
        "colab": {
          "base_uri": "https://localhost:8080/"
        },
        "id": "7s56hw7wt3ln",
        "outputId": "90e1a3d9-ff25-4113-fc2c-a0e05ff21693"
      },
      "outputs": [
        {
          "name": "stdout",
          "output_type": "stream",
          "text": [
            "<class 'list'>\n"
          ]
        }
      ],
      "source": [
        "grocery=['sugar','tea powder','soap']\n",
        "print(type(grocery))"
      ]
    },
    {
      "cell_type": "code",
      "execution_count": null,
      "metadata": {
        "colab": {
          "base_uri": "https://localhost:8080/"
        },
        "id": "urXk45Vpv-9l",
        "outputId": "4256c764-3409-43c6-ce33-8128070ef2f2"
      },
      "outputs": [
        {
          "name": "stdout",
          "output_type": "stream",
          "text": [
            "['290', 'India', 'Rash']\n",
            "3\n",
            "['290', 'India', 'Rash', '12', 'chandu', '13']\n"
          ]
        }
      ],
      "source": [
        "lis=['290','India','Rash']\n",
        "print(lis)\n",
        "print(len(lis))\n",
        "list2=['12','chandu','13']\n",
        "list3=lis+list2\n",
        "print(list3)"
      ]
    },
    {
      "cell_type": "code",
      "execution_count": null,
      "metadata": {
        "colab": {
          "base_uri": "https://localhost:8080/"
        },
        "id": "Vcp0Rqy92tAk",
        "outputId": "31f8ab08-d0c0-4fa6-b283-cdf2aa68b4fe"
      },
      "outputs": [
        {
          "name": "stdout",
          "output_type": "stream",
          "text": [
            "(1, 2, 3, 4)\n"
          ]
        }
      ],
      "source": [
        "tuple=(1,2,3,4)\n",
        "print(tuple)"
      ]
    },
    {
      "cell_type": "code",
      "execution_count": null,
      "metadata": {
        "colab": {
          "base_uri": "https://localhost:8080/",
          "height": 288
        },
        "id": "Y2zlI5FN21Lf",
        "outputId": "e5e555e5-c81e-4997-a897-ea2d81d5edaf"
      },
      "outputs": [
        {
          "name": "stdout",
          "output_type": "stream",
          "text": [
            "<class 'str'>\n",
            "<class 'tuple'>\n",
            "<class 'tuple'>\n"
          ]
        },
        {
          "ename": "TypeError",
          "evalue": "ignored",
          "output_type": "error",
          "traceback": [
            "\u001b[0;31m---------------------------------------------------------------------------\u001b[0m",
            "\u001b[0;31mTypeError\u001b[0m                                 Traceback (most recent call last)",
            "\u001b[0;32m<ipython-input-47-679a8bc06586>\u001b[0m in \u001b[0;36m<cell line: 7>\u001b[0;34m()\u001b[0m\n\u001b[1;32m      5\u001b[0m \u001b[0mtuple3\u001b[0m\u001b[0;34m=\u001b[0m\u001b[0;34m(\u001b[0m\u001b[0;34m\"hubli\"\u001b[0m\u001b[0;34m,\u001b[0m\u001b[0;36m1\u001b[0m\u001b[0;34m,\u001b[0m\u001b[0;36m2\u001b[0m\u001b[0;34m,\u001b[0m\u001b[0;36m3\u001b[0m\u001b[0;34m,\u001b[0m\u001b[0;34m\"asdf\"\u001b[0m\u001b[0;34m,\u001b[0m\u001b[0;32mTrue\u001b[0m\u001b[0;34m)\u001b[0m\u001b[0;34m\u001b[0m\u001b[0;34m\u001b[0m\u001b[0m\n\u001b[1;32m      6\u001b[0m \u001b[0mprint\u001b[0m\u001b[0;34m(\u001b[0m\u001b[0mtype\u001b[0m\u001b[0;34m(\u001b[0m\u001b[0mtuple3\u001b[0m\u001b[0;34m)\u001b[0m\u001b[0;34m)\u001b[0m\u001b[0;34m\u001b[0m\u001b[0;34m\u001b[0m\u001b[0m\n\u001b[0;32m----> 7\u001b[0;31m \u001b[0mtuple4\u001b[0m\u001b[0;34m=\u001b[0m \u001b[0mtuple\u001b[0m\u001b[0;34m(\u001b[0m\u001b[0;34m(\u001b[0m\u001b[0;36m1\u001b[0m\u001b[0;34m,\u001b[0m\u001b[0;36m2\u001b[0m\u001b[0;34m,\u001b[0m\u001b[0;36m3\u001b[0m\u001b[0;34m,\u001b[0m\u001b[0;36m4\u001b[0m\u001b[0;34m,\u001b[0m\u001b[0;36m5\u001b[0m\u001b[0;34m)\u001b[0m\u001b[0;34m)\u001b[0m\u001b[0;34m\u001b[0m\u001b[0;34m\u001b[0m\u001b[0m\n\u001b[0m\u001b[1;32m      8\u001b[0m \u001b[0mprint\u001b[0m\u001b[0;34m(\u001b[0m\u001b[0mtype\u001b[0m\u001b[0;34m(\u001b[0m\u001b[0mtuple5\u001b[0m\u001b[0;34m)\u001b[0m\u001b[0;34m)\u001b[0m\u001b[0;34m\u001b[0m\u001b[0;34m\u001b[0m\u001b[0m\n",
            "\u001b[0;31mTypeError\u001b[0m: 'tuple' object is not callable"
          ]
        }
      ],
      "source": [
        "tuple1=(\"hubli\")\n",
        "print(type(tuple1))\n",
        "tuple2=(\"hubli\",)\n",
        "print(type(tuple2))\n",
        "tuple3=(\"hubli\",1,2,3,\"asdf\",True)\n",
        "print(type(tuple3))\n",
        "tuple4= tuple((1,2,3,4,5))\n",
        "print(type(tuple5))"
      ]
    },
    {
      "cell_type": "code",
      "execution_count": null,
      "metadata": {
        "colab": {
          "base_uri": "https://localhost:8080/"
        },
        "id": "wg6cSKCd4JS-",
        "outputId": "73c8aa5f-116e-4e1e-8d36-35abcfe8c43c"
      },
      "outputs": [
        {
          "name": "stdout",
          "output_type": "stream",
          "text": [
            "<class 'tuple'>\n",
            "<class 'tuple'>\n",
            "('hubli', 1, 'hubli')\n",
            "tuple(-1)= 1\n",
            "('hubli', 1, 'hubli', 1)\n",
            "0\n",
            "2\n"
          ]
        }
      ],
      "source": [
        "tuple1=(\"hubli\",1)\n",
        "print(type(tuple1))\n",
        "tuple2=('hubli',)\n",
        "print(type(tuple2))\n",
        "tuple3=tuple1+tuple2\n",
        "print(tuple3)\n",
        "print('tuple(-1)=',tuple1[-1])\n",
        "tuple8=tuple1*2\n",
        "print(tuple8)\n",
        "y=tuple8.index('hubli')\n",
        "print(y)\n",
        "x=tuple8.count('hubli')\n",
        "print(x)\n"
      ]
    },
    {
      "cell_type": "code",
      "execution_count": null,
      "metadata": {
        "colab": {
          "base_uri": "https://localhost:8080/"
        },
        "id": "1LeNzdTT-voQ",
        "outputId": "36b4f973-d04b-4074-8e8d-00240f10b07b"
      },
      "outputs": [
        {
          "name": "stdout",
          "output_type": "stream",
          "text": [
            "<class 'tuple'>\n",
            "('Hubli', 'Belagaum', 'Blore', 'r')\n"
          ]
        }
      ],
      "source": [
        "x=(\"Hubli\",\"Belagaum\",\"Blore\")\n",
        "print(type(x))\n",
        "y_append=x+(\"r\",)\n",
        "\n",
        "\n",
        "print(y_append)"
      ]
    },
    {
      "cell_type": "code",
      "execution_count": null,
      "metadata": {
        "colab": {
          "background_save": true,
          "base_uri": "https://localhost:8080/",
          "height": 252
        },
        "id": "w5rpFq6iCTrs",
        "outputId": "fd4d6a4f-3034-4330-b99d-b74e30165569"
      },
      "outputs": [
        {
          "name": "stdout",
          "output_type": "stream",
          "text": [
            "['Hubli', 'Belagaum', 'Blore', '9']\n",
            "('Hubli', 'Belagaum', 'Blore', '9')\n"
          ]
        }
      ],
      "source": [
        "x=(\"Hubli\",\"Belagaum\",\"Blore\")\n",
        "y=list[x]\n",
        "y.append('9','7')\n",
        "print(y)\n",
        "x=tuple(y)\n",
        "print(x)"
      ]
    },
    {
      "cell_type": "code",
      "execution_count": null,
      "metadata": {
        "colab": {
          "base_uri": "https://localhost:8080/"
        },
        "id": "z7U5EYbomPy8",
        "outputId": "9b5ced16-619c-418c-945a-fbdc89a1e6a0"
      },
      "outputs": [
        {
          "name": "stdout",
          "output_type": "stream",
          "text": [
            "128\n",
            "16\n",
            "8\n",
            "11\n",
            "2\n",
            "8\n",
            "2\n",
            "4\n"
          ]
        }
      ],
      "source": [
        "print(8<<4)\n",
        "print(8<<1)\n",
        "a=8\n",
        "print(8)\n",
        "a+=3\n",
        "print(a)\n",
        "a-=9\n",
        "print(a)\n",
        "a<<=2\n",
        "print(a)\n",
        "a%=3\n",
        "print(a)\n",
        "a**=2\n",
        "print(a)"
      ]
    },
    {
      "cell_type": "code",
      "execution_count": null,
      "metadata": {
        "colab": {
          "base_uri": "https://localhost:8080/"
        },
        "id": "IeUWPWO1pYvC",
        "outputId": "b0340d78-e0d8-4140-d351-bb69852d07f6"
      },
      "outputs": [
        {
          "name": "stdout",
          "output_type": "stream",
          "text": [
            "True\n",
            "False\n",
            "False\n",
            "True\n",
            "True\n"
          ]
        }
      ],
      "source": [
        "y=[\"Rash\",\"Chandu\"]\n",
        "x=[\"R\",\"S\"]\n",
        "z=x\n",
        "z=y\n",
        "print(z is y)\n",
        "print(z is x)\n",
        "print(\"Chandu\" in x)\n",
        "print(\"Chandu\" in y)\n",
        "print(\"Chandu\" in z)"
      ]
    },
    {
      "cell_type": "markdown",
      "metadata": {
        "id": "nIp136u1qfmR"
      },
      "source": [
        "# **While loop**"
      ]
    },
    {
      "cell_type": "code",
      "execution_count": null,
      "metadata": {
        "colab": {
          "base_uri": "https://localhost:8080/"
        },
        "id": "evR_DC7jqItr",
        "outputId": "2706bdc7-4fba-4fd7-98d2-732183f4266d"
      },
      "outputs": [
        {
          "name": "stdout",
          "output_type": "stream",
          "text": [
            "enter the number 15\n",
            "number is two digit number\n"
          ]
        }
      ],
      "source": [
        "num=int(input(\"enter the number\"))\n",
        "while num<=9:\n",
        "  print(\"Number is single digit\")\n",
        "  break\n",
        "\n",
        "while num>9 and num<=99:\n",
        "  print(\"number is two digit number\")\n",
        "  break\n",
        "\n",
        "while num>99:\n",
        "  print(\"number has more than two digit\")\n",
        "\n"
      ]
    },
    {
      "cell_type": "markdown",
      "metadata": {
        "id": "TV9GBJetsdlW"
      },
      "source": [
        "# **FOR LOOP**"
      ]
    },
    {
      "cell_type": "code",
      "execution_count": null,
      "metadata": {
        "colab": {
          "base_uri": "https://localhost:8080/"
        },
        "id": "ZT75_eQhscCb",
        "outputId": "0da59a58-d48c-4c53-8942-99141b1ed678"
      },
      "outputs": [
        {
          "name": "stdout",
          "output_type": "stream",
          "text": [
            "1\n",
            "2\n",
            "3\n",
            "4\n",
            "5\n",
            "6\n",
            "7\n",
            "8\n",
            "double digit number\n",
            "double digit number\n",
            "double digit number\n",
            "double digit number\n",
            "double digit number\n"
          ]
        }
      ],
      "source": [
        "for x in range(1,9):\n",
        "  print(x)\n",
        "for x in range(10,59,10):\n",
        "    print(\"double digit number\")\n"
      ]
    },
    {
      "cell_type": "code",
      "execution_count": null,
      "metadata": {
        "colab": {
          "base_uri": "https://localhost:8080/"
        },
        "id": "lT4OQrxtuoFE",
        "outputId": "31172b94-568a-4e13-ebd1-5458159d7475"
      },
      "outputs": [
        {
          "name": "stdout",
          "output_type": "stream",
          "text": [
            "not found\n"
          ]
        }
      ],
      "source": [
        "classes=[\"a\",\"b\",\"c\",\"d\"]\n",
        "for x in classes:\n",
        " if x==\"e\":\n",
        "  print(\"found\")\n",
        "  break\n",
        " else:\n",
        "  print(\"not found\")\n",
        "  break"
      ]
    },
    {
      "cell_type": "markdown",
      "metadata": {
        "id": "HSWt9AQMzTyx"
      },
      "source": [
        "# ***Functions***"
      ]
    },
    {
      "cell_type": "code",
      "execution_count": null,
      "metadata": {
        "colab": {
          "base_uri": "https://localhost:8080/"
        },
        "id": "wrB9DZ1hwByT",
        "outputId": "04bae146-13d4-4a8e-c9d6-3848beb0b75e"
      },
      "outputs": [
        {
          "name": "stdout",
          "output_type": "stream",
          "text": [
            "number of pieces=  5\n",
            "flavour=  strawberry\n",
            "size is =  2kg\n",
            " \n",
            "number of pieces=  6\n",
            "flavour=  Chocolate\n",
            "size is =  3.5kg\n",
            " \n"
          ]
        }
      ],
      "source": [
        "def cake_baker(p,f,s):\n",
        "  print(\"number of pieces= \",p)\n",
        "  print(\"flavour= \",f)\n",
        "  print(\"size is = \",s)\n",
        "  print(\" \")\n",
        "cake_baker(\"5\",\"strawberry\",\"2kg\")\n",
        "cake_baker(\"6\",\"Chocolate\",\"3.5kg\")\n"
      ]
    },
    {
      "cell_type": "code",
      "execution_count": null,
      "metadata": {
        "colab": {
          "base_uri": "https://localhost:8080/"
        },
        "id": "hCZwvAJK1zId",
        "outputId": "be7175f0-afd4-48ff-dbfa-1c842f448456"
      },
      "outputs": [
        {
          "name": "stdout",
          "output_type": "stream",
          "text": [
            "156\n"
          ]
        }
      ],
      "source": [
        "def add(*adds):\n",
        "  sum=0\n",
        "  for i in adds:\n",
        "    sum+=i\n",
        "  return sum\n",
        "print(add(1,9,12,11,123))"
      ]
    },
    {
      "cell_type": "code",
      "execution_count": null,
      "metadata": {
        "colab": {
          "base_uri": "https://localhost:8080/"
        },
        "id": "z7KAWP4o2lTn",
        "outputId": "04568597-42f7-4c9a-da01-88d1de4f4926"
      },
      "outputs": [
        {
          "name": "stdout",
          "output_type": "stream",
          "text": [
            "Welcome Back\n",
            "name Sahana\n",
            "Usn 01fe21bec056\n",
            "Branch ECE\n"
          ]
        }
      ],
      "source": [
        "def greet(**details):\n",
        "  print(\"Welcome Back\")\n",
        "  for key,value in details.items():\n",
        "    print(key,value)\n",
        "greet(name=\"Sahana\",Usn=\"01fe21bec056\",Branch=\"ECE\")\n",
        "\n"
      ]
    },
    {
      "cell_type": "code",
      "execution_count": null,
      "metadata": {
        "colab": {
          "base_uri": "https://localhost:8080/"
        },
        "id": "0RqL-yBP4dmG",
        "outputId": "f5bfbda6-0c84-4f2c-99c1-8b957ad6f35f"
      },
      "outputs": [
        {
          "name": "stdout",
          "output_type": "stream",
          "text": [
            "4\n",
            "0.7307200387148746\n"
          ]
        }
      ],
      "source": [
        "import random\n",
        "x=random.randint(1,9)\n",
        "print(x)\n",
        "y=random.random()\n",
        "print(y)"
      ]
    },
    {
      "cell_type": "code",
      "execution_count": null,
      "metadata": {
        "colab": {
          "base_uri": "https://localhost:8080/"
        },
        "id": "YBOckufU5ffL",
        "outputId": "9e8a6d1c-0798-491e-a926-2be34a728c45"
      },
      "outputs": [
        {
          "name": "stdout",
          "output_type": "stream",
          "text": [
            "enter the number between 1 and 9 5\n",
            "computer output  9\n",
            "user input 5\n",
            "Computer won\n"
          ]
        }
      ],
      "source": [
        "import random\n",
        "computer=random.randint(1,9)\n",
        "user=int(input(\"enter the number between 1 and 9 \"))\n",
        "print(\"computer output \",computer)\n",
        "print(\"user input\",user)\n",
        "if computer>user:\n",
        "  print(\"Computer won\")\n",
        "elif user==computer:\n",
        "  print(\"Tie\")\n",
        "else:\n",
        "  print(\"user won\")\n",
        "\n",
        "\n"
      ]
    },
    {
      "cell_type": "code",
      "execution_count": null,
      "metadata": {
        "colab": {
          "base_uri": "https://localhost:8080/"
        },
        "id": "AvbLin77YZyk",
        "outputId": "5d072c00-a507-4db4-aa5a-9af0ecc24fdd"
      },
      "outputs": [
        {
          "name": "stdout",
          "output_type": "stream",
          "text": [
            "enter the choice of yours  paper\n",
            "computers choice   rock\n",
            "Users choice  paper\n",
            "User won\n"
          ]
        }
      ],
      "source": [
        "import random\n",
        "gamelist=['rock','paper','scissors']\n",
        "z=random.choice(gamelist)\n",
        "user=input(\"enter the choice of yours  \")\n",
        "print(\"computers choice  \",z)\n",
        "print(\"Users choice \",user)\n",
        "if (z==\"rock\" and user==\"paper\"):\n",
        "  print(\"User won\")\n",
        "elif(z==\"rock\" and user==\"scissor\"):\n",
        "  print(\"computer won\")\n",
        "elif (z==\"paper\" and user==\"scissor\"):\n",
        "  print(\"User won\")\n",
        "elif (z==\"scissor\" and user==\"scissor\"):\n",
        "  print(\"tie\")\n",
        "else:\n",
        "  print(\"user won7\")\n"
      ]
    },
    {
      "cell_type": "markdown",
      "metadata": {
        "id": "n3jyZ3AWanzp"
      },
      "source": [
        "# ***Numerical Python***"
      ]
    },
    {
      "cell_type": "code",
      "execution_count": null,
      "metadata": {
        "colab": {
          "base_uri": "https://localhost:8080/"
        },
        "id": "ygVJ7Pbzanfx",
        "outputId": "e59cc73d-7df8-4fc2-c575-7727f58c2a61"
      },
      "outputs": [
        {
          "name": "stdout",
          "output_type": "stream",
          "text": [
            "<class 'numpy.ndarray'>\n",
            "[0. 0. 0.]\n",
            "[1. 1. 1. 1.]\n",
            "[1 2 3 5 6 9]\n"
          ]
        }
      ],
      "source": [
        "import numpy as np\n",
        "a=np.array([1,2,9,6,5,3])\n",
        "print(type(a))\n",
        "p=np.zeros(3)\n",
        "q=np.ones(4)\n",
        "print(p)\n",
        "print(q)\n",
        "d=np.sort(a)\n",
        "print(d)"
      ]
    },
    {
      "cell_type": "markdown",
      "metadata": {
        "id": "hI5X6ipPb5N3"
      },
      "source": [
        "ndarray+n dimensional array"
      ]
    },
    {
      "cell_type": "code",
      "execution_count": null,
      "metadata": {
        "colab": {
          "base_uri": "https://localhost:8080/",
          "height": 430
        },
        "id": "2Ya0mOXCb9Jx",
        "outputId": "58e7e950-fdb1-43b5-c123-a16d0c0757eb"
      },
      "outputs": [
        {
          "data": {
            "image/png": "[encoded data removed]",
            "text/plain": [
              "<Figure size 640x480 with 1 Axes>"
            ]
          },
          "metadata": {},
          "output_type": "display_data"
        }
      ],
      "source": [
        "import matplotlib.pyplot as plt\n",
        "import numpy as np\n",
        "x=np.linspace(0,1,5)\n",
        "m=0.6\n",
        "c=25\n",
        "y=m*x+c\n",
        "plt.plot(x,y)\n",
        "plt.show()\n"
      ]
    },
    {
      "cell_type": "code",
      "execution_count": null,
      "metadata": {
        "colab": {
          "base_uri": "https://localhost:8080/",
          "height": 430
        },
        "id": "0-0Ypn7tIoiQ",
        "outputId": "5ac8f7ea-7f08-4b8a-bf2e-f27a2d4abeca"
      },
      "outputs": [
        {
          "data": {
            "image/png": "[encoded data removed]",
            "text/plain": [
              "<Figure size 640x480 with 1 Axes>"
            ]
          },
          "metadata": {},
          "output_type": "display_data"
        }
      ],
      "source": [
        "import matplotlib.pyplot as plt\n",
        "import numpy as np\n",
        "x=np.linspace(0,(5*np.pi),150)\n",
        "y=np.sin(x)\n",
        "plt.plot(x,y,color='blue',linewidth=2.0)\n",
        "plt.show()\n"
      ]
    },
    {
      "cell_type": "code",
      "execution_count": null,
      "metadata": {
        "colab": {
          "base_uri": "https://localhost:8080/",
          "height": 600
        },
        "id": "3vmBsQ7QNlT4",
        "outputId": "0ff833e9-ad01-4d29-f2db-b5b491394d9a"
      },
      "outputs": [
        {
          "ename": "AttributeError",
          "evalue": "ignored",
          "output_type": "error",
          "traceback": [
            "\u001b[0;31m---------------------------------------------------------------------------\u001b[0m",
            "\u001b[0;31mAttributeError\u001b[0m                            Traceback (most recent call last)",
            "\u001b[0;32m<ipython-input-31-c37ca2a5c25b>\u001b[0m in \u001b[0;36m<cell line: 8>\u001b[0;34m()\u001b[0m\n\u001b[1;32m      6\u001b[0m \u001b[0mfig\u001b[0m\u001b[0;34m,\u001b[0m\u001b[0ma\u001b[0m\u001b[0;34m=\u001b[0m\u001b[0mplt\u001b[0m\u001b[0;34m.\u001b[0m\u001b[0msubplots\u001b[0m\u001b[0;34m(\u001b[0m\u001b[0;34m)\u001b[0m\u001b[0;34m\u001b[0m\u001b[0;34m\u001b[0m\u001b[0m\n\u001b[1;32m      7\u001b[0m \u001b[0ma\u001b[0m\u001b[0;34m.\u001b[0m\u001b[0mplot\u001b[0m\u001b[0;34m(\u001b[0m\u001b[0mx\u001b[0m\u001b[0;34m,\u001b[0m\u001b[0my\u001b[0m\u001b[0;34m,\u001b[0m\u001b[0mlinewidth\u001b[0m\u001b[0;34m=\u001b[0m\u001b[0;36m2.0\u001b[0m\u001b[0;34m)\u001b[0m\u001b[0;34m\u001b[0m\u001b[0;34m\u001b[0m\u001b[0m\n\u001b[0;32m----> 8\u001b[0;31m a.set(xlim=(0,8), xticks=np.arrange(1,8),\n\u001b[0m\u001b[1;32m      9\u001b[0m       ylim=(0,8), yticks=np.arrange(1,8))\n\u001b[1;32m     10\u001b[0m \u001b[0mplt\u001b[0m\u001b[0;34m.\u001b[0m\u001b[0mshow\u001b[0m\u001b[0;34m(\u001b[0m\u001b[0;34m)\u001b[0m\u001b[0;34m\u001b[0m\u001b[0;34m\u001b[0m\u001b[0m\n",
            "\u001b[0;32m/usr/local/lib/python3.10/dist-packages/numpy/__init__.py\u001b[0m in \u001b[0;36m__getattr__\u001b[0;34m(attr)\u001b[0m\n\u001b[1;32m    309\u001b[0m             \u001b[0;32mreturn\u001b[0m \u001b[0mTester\u001b[0m\u001b[0;34m\u001b[0m\u001b[0;34m\u001b[0m\u001b[0m\n\u001b[1;32m    310\u001b[0m \u001b[0;34m\u001b[0m\u001b[0m\n\u001b[0;32m--> 311\u001b[0;31m         raise AttributeError(\"module {!r} has no attribute \"\n\u001b[0m\u001b[1;32m    312\u001b[0m                              \"{!r}\".format(__name__, attr))\n\u001b[1;32m    313\u001b[0m \u001b[0;34m\u001b[0m\u001b[0m\n",
            "\u001b[0;31mAttributeError\u001b[0m: module 'numpy' has no attribute 'arrange'"
          ]
        },
        {
          "data": {
            "image/png": "[encoded data removed]",
            "text/plain": [
              "<Figure size 200x200 with 1 Axes>"
            ]
          },
          "metadata": {},
          "output_type": "display_data"
        }
      ],
      "source": [
        "import matplotlib.pyplot as plt\n",
        "import numpy as np\n",
        "plt.style.use('_mpl-gallery')\n",
        "x=np.linspace(0,(5*np.pi),150)\n",
        "y=np.sin(x)\n",
        "fig,a=plt.subplots()\n",
        "a.plot(x,y,linewidth=2.0)\n",
        "a.set(xlim=(0,8), xticks=np.arrange(1,8),\n",
        "      ylim=(0,8), yticks=np.arrange(1,8))\n",
        "plt.show()"
      ]
    },
    {
      "cell_type": "code",
      "execution_count": null,
      "metadata": {
        "colab": {
          "base_uri": "https://localhost:8080/",
          "height": 251
        },
        "id": "rQNS98IwPC5n",
        "outputId": "2b8497cc-2a0a-4bf1-e838-82ae875bd2b7"
      },
      "outputs": [
        {
          "data": {
            "image/png": "[encoded data removed]",
            "text/plain": [
              "<Figure size 200x200 with 1 Axes>"
            ]
          },
          "metadata": {},
          "output_type": "display_data"
        }
      ],
      "source": [
        "import matplotlib.pyplot as plt\n",
        "import numpy as np\n",
        "temp=np.array([10,20,30,40,50,60,70,80,90,100,110])\n",
        "res=np.array([18476,12185,10000,8260,5740,4080,2960,2188,1645,1257,973])\n",
        "plt.scatter(temp,res,color='red')\n",
        "plt.show()"
      ]
    },
    {
      "cell_type": "code",
      "execution_count": null,
      "metadata": {
        "colab": {
          "base_uri": "https://localhost:8080/",
          "height": 310
        },
        "id": "wbEB4pmTQcRg",
        "outputId": "65e24d91-fbc9-48dc-b043-8247aa08d632"
      },
      "outputs": [
        {
          "data": {
            "text/plain": [
              "Text(0, 0.5, 'res')"
            ]
          },
          "execution_count": 45,
          "metadata": {},
          "output_type": "execute_result"
        },
        {
          "data": {
            "image/png": "[encoded data removed]",
            "text/plain": [
              "<Figure size 200x200 with 1 Axes>"
            ]
          },
          "metadata": {},
          "output_type": "display_data"
        }
      ],
      "source": [
        "import matplotlib.pyplot as plt\n",
        "import numpy as np\n",
        "temp=np.array([10,20,30,40,50,60,70,80,90,100,110])\n",
        "res=np.array([18476,12185,10000,8260,5740,4080,2960,2188,1645,1257,973])\n",
        "plt.plot(temp,res,color='green',marker='*',linestyle='dotted')\n",
        "plt.title(\"Thermistor Characteristics\")\n",
        "plt.xlabel(\"temp\")\n",
        "plt.ylabel(\"res\")"
      ]
    },
    {
      "cell_type": "markdown",
      "metadata": {
        "id": "AT5k8XV2R3V7"
      },
      "source": [
        "***Bar graphs***"
      ]
    },
    {
      "cell_type": "code",
      "execution_count": null,
      "metadata": {
        "colab": {
          "base_uri": "https://localhost:8080/",
          "height": 487
        },
        "id": "4B7Wyi1ER0Lb",
        "outputId": "dbae4ece-9073-4c9f-e28e-54e16ef0b2a9"
      },
      "outputs": [
        {
          "data": {
            "image/png": "[encoded data removed]",
            "text/plain": [
              "<Figure size 200x200 with 1 Axes>"
            ]
          },
          "metadata": {},
          "output_type": "display_data"
        },
        {
          "data": {
            "image/png": "[encoded data removed]",
            "text/plain": [
              "<Figure size 200x200 with 1 Axes>"
            ]
          },
          "metadata": {},
          "output_type": "display_data"
        }
      ],
      "source": [
        "import matplotlib.pyplot as plt\n",
        "import numpy as np\n",
        "x=np.array([\"Karnataka\",\"TN\",\"Andra\",\"Kerala\"])\n",
        "y=np.array([65,68,89,86])\n",
        "plt.bar(x,y,color='green')\n",
        "plt.ylabel(\"temp\")\n",
        "plt.xlabel(\"states\")\n",
        "plt.show()\n",
        "plt.pie(y)\n",
        "plt.show()\n"
      ]
    },
    {
      "cell_type": "code",
      "execution_count": null,
      "metadata": {
        "colab": {
          "base_uri": "https://localhost:8080/",
          "height": 489
        },
        "id": "W845Je7RVf8C",
        "outputId": "f05381fa-2755-49ca-b6ed-af20915effeb"
      },
      "outputs": [
        {
          "data": {
            "image/png": "[encoded data removed]",
            "text/plain": [
              "<Figure size 200x200 with 1 Axes>"
            ]
          },
          "metadata": {},
          "output_type": "display_data"
        },
        {
          "data": {
            "image/png": "[encoded data removed]",
            "text/plain": [
              "<Figure size 200x200 with 1 Axes>"
            ]
          },
          "metadata": {},
          "output_type": "display_data"
        }
      ],
      "source": [
        "import matplotlib.pyplot as plt\n",
        "import numpy as np\n",
        "def addlabels(x,y):\n",
        "    for i in range(len(x)):\n",
        "        plt.text(i,y[i],y[i])\n",
        "x=np.array([\"Karna\",\"TN\",\"Andra\",\"Kerala\"])\n",
        "y=np.array([65,68,89,86])\n",
        "plt.bar(x,y,color='green')\n",
        "plt.ylabel(\"temp\")\n",
        "plt.xlabel(\"states\")\n",
        "addlabels(x,y)\n",
        "plt.show()\n",
        "plt.pie(y, labels=x)\n",
        "plt.show()"
      ]
    },
    {
      "cell_type": "code",
      "execution_count": null,
      "metadata": {
        "colab": {
          "base_uri": "https://localhost:8080/",
          "height": 251
        },
        "id": "1tAYJColYD37",
        "outputId": "2c4a4e7b-1765-49af-c6e2-de0c9f97cb6b"
      },
      "outputs": [
        {
          "data": {
            "image/png": "[encoded data removed]",
            "text/plain": [
              "<Figure size 200x200 with 1 Axes>"
            ]
          },
          "metadata": {},
          "output_type": "display_data"
        }
      ],
      "source": [
        "import matplotlib.pyplot as plt\n",
        "import numpy as np\n",
        "x=np.random.normal(5,1,100000)\n",
        "plt.hist(x,100)\n",
        "plt.show()"
      ]
    },
    {
      "cell_type": "code",
      "execution_count": null,
      "metadata": {
        "colab": {
          "base_uri": "https://localhost:8080/"
        },
        "id": "Xm5HFcdoV4ho",
        "outputId": "e2af2c11-ce92-43fe-d5da-151c92c3278e"
      },
      "outputs": [
        {
          "name": "stdout",
          "output_type": "stream",
          "text": [
            "<bound method DataFrame.to_string of        longitude  latitude  housing_median_age  total_rooms  total_bedrooms  \\\n",
            "0        -114.31     34.19                15.0       5612.0          1283.0   \n",
            "1        -114.47     34.40                19.0       7650.0          1901.0   \n",
            "2        -114.56     33.69                17.0        720.0           174.0   \n",
            "3        -114.57     33.64                14.0       1501.0           337.0   \n",
            "4        -114.57     33.57                20.0       1454.0           326.0   \n",
            "...          ...       ...                 ...          ...             ...   \n",
            "16995    -124.26     40.58                52.0       2217.0           394.0   \n",
            "16996    -124.27     40.69                36.0       2349.0           528.0   \n",
            "16997    -124.30     41.84                17.0       2677.0           531.0   \n",
            "16998    -124.30     41.80                19.0       2672.0           552.0   \n",
            "16999    -124.35     40.54                52.0       1820.0           300.0   \n",
            "\n",
            "       population  households  median_income  median_house_value  \n",
            "0          1015.0       472.0         1.4936             66900.0  \n",
            "1          1129.0       463.0         1.8200             80100.0  \n",
            "2           333.0       117.0         1.6509             85700.0  \n",
            "3           515.0       226.0         3.1917             73400.0  \n",
            "4           624.0       262.0         1.9250             65500.0  \n",
            "...           ...         ...            ...                 ...  \n",
            "16995       907.0       369.0         2.3571            111400.0  \n",
            "16996      1194.0       465.0         2.5179             79000.0  \n",
            "16997      1244.0       456.0         3.0313            103600.0  \n",
            "16998      1298.0       478.0         1.9797             85800.0  \n",
            "16999       806.0       270.0         3.0147             94600.0  \n",
            "\n",
            "[17000 rows x 9 columns]>\n"
          ]
        }
      ],
      "source": [
        "import pandas as pd\n",
        "data=pd.read_csv('/content/sample_data/california_housing_train.csv')\n",
        "print(data.to_string)\n"
      ]
    },
    {
      "cell_type": "code",
      "execution_count": null,
      "metadata": {
        "colab": {
          "base_uri": "https://localhost:8080/",
          "height": 174
        },
        "id": "YSk0gGbQb_u7",
        "outputId": "e3d71eb7-f762-4516-9346-1cb432f7136c"
      },
      "outputs": [
        {
          "data": {
            "text/html": [
              "\n",
              "  <div id=\"df-30d7f893-8657-4b4e-97da-708f93a8dea6\" class=\"colab-df-container\">\n",
              "    <div>\n",
              "<style scoped>\n",
              "    .dataframe tbody tr th:only-of-type {\n",
              "        vertical-align: middle;\n",
              "    }\n",
              "\n",
              "    .dataframe tbody tr th {\n",
              "        vertical-align: top;\n",
              "    }\n",
              "\n",
              "    .dataframe thead th {\n",
              "        text-align: right;\n",
              "    }\n",
              "</style>\n",
              "<table border=\"1\" class=\"dataframe\">\n",
              "  <thead>\n",
              "    <tr style=\"text-align: right;\">\n",
              "      <th></th>\n",
              "      <th>Duration</th>\n",
              "      <th>Pulse</th>\n",
              "      <th>Maxpulse</th>\n",
              "      <th>Calories</th>\n",
              "    </tr>\n",
              "  </thead>\n",
              "  <tbody>\n",
              "    <tr>\n",
              "      <th>Duration</th>\n",
              "      <td>1.000000</td>\n",
              "      <td>-0.155408</td>\n",
              "      <td>0.009403</td>\n",
              "      <td>0.922717</td>\n",
              "    </tr>\n",
              "    <tr>\n",
              "      <th>Pulse</th>\n",
              "      <td>-0.155408</td>\n",
              "      <td>1.000000</td>\n",
              "      <td>0.786535</td>\n",
              "      <td>0.025121</td>\n",
              "    </tr>\n",
              "    <tr>\n",
              "      <th>Maxpulse</th>\n",
              "      <td>0.009403</td>\n",
              "      <td>0.786535</td>\n",
              "      <td>1.000000</td>\n",
              "      <td>0.203813</td>\n",
              "    </tr>\n",
              "    <tr>\n",
              "      <th>Calories</th>\n",
              "      <td>0.922717</td>\n",
              "      <td>0.025121</td>\n",
              "      <td>0.203813</td>\n",
              "      <td>1.000000</td>\n",
              "    </tr>\n",
              "  </tbody>\n",
              "</table>\n",
              "</div>\n",
              "    <div class=\"colab-df-buttons\">\n",
              "\n",
              "  <div class=\"colab-df-container\">\n",
              "    <button class=\"colab-df-convert\" onclick=\"convertToInteractive('df-30d7f893-8657-4b4e-97da-708f93a8dea6')\"\n",
              "            title=\"Convert this dataframe to an interactive table.\"\n",
              "            style=\"display:none;\">\n",
              "\n",
              "  <svg xmlns=\"http://www.w3.org/2000/svg\" height=\"24px\" viewBox=\"0 -960 960 960\">\n",
              "    <path d=\"M120-120v-720h720v720H120Zm60-500h600v-160H180v160Zm220 220h160v-160H400v160Zm0 220h160v-160H400v160ZM180-400h160v-160H180v160Zm440 0h160v-160H620v160ZM180-180h160v-160H180v160Zm440 0h160v-160H620v160Z\"/>\n",
              "  </svg>\n",
              "    </button>\n",
              "\n",
              "  <style>\n",
              "    .colab-df-container {\n",
              "      display:flex;\n",
              "      gap: 12px;\n",
              "    }\n",
              "\n",
              "    .colab-df-convert {\n",
              "      background-color: #E8F0FE;\n",
              "      border: none;\n",
              "      border-radius: 50%;\n",
              "      cursor: pointer;\n",
              "      display: none;\n",
              "      fill: #1967D2;\n",
              "      height: 32px;\n",
              "      padding: 0 0 0 0;\n",
              "      width: 32px;\n",
              "    }\n",
              "\n",
              "    .colab-df-convert:hover {\n",
              "      background-color: #E2EBFA;\n",
              "      box-shadow: 0px 1px 2px rgba(60, 64, 67, 0.3), 0px 1px 3px 1px rgba(60, 64, 67, 0.15);\n",
              "      fill: #174EA6;\n",
              "    }\n",
              "\n",
              "    .colab-df-buttons div {\n",
              "      margin-bottom: 4px;\n",
              "    }\n",
              "\n",
              "    [theme=dark] .colab-df-convert {\n",
              "      background-color: #3B4455;\n",
              "      fill: #D2E3FC;\n",
              "    }\n",
              "\n",
              "    [theme=dark] .colab-df-convert:hover {\n",
              "      background-color: #434B5C;\n",
              "      box-shadow: 0px 1px 3px 1px rgba(0, 0, 0, 0.15);\n",
              "      filter: drop-shadow(0px 1px 2px rgba(0, 0, 0, 0.3));\n",
              "      fill: #FFFFFF;\n",
              "    }\n",
              "  </style>\n",
              "\n",
              "    <script>\n",
              "      const buttonEl =\n",
              "        document.querySelector('#df-30d7f893-8657-4b4e-97da-708f93a8dea6 button.colab-df-convert');\n",
              "      buttonEl.style.display =\n",
              "        google.colab.kernel.accessAllowed ? 'block' : 'none';\n",
              "\n",
              "      async function convertToInteractive(key) {\n",
              "        const element = document.querySelector('#df-30d7f893-8657-4b4e-97da-708f93a8dea6');\n",
              "        const dataTable =\n",
              "          await google.colab.kernel.invokeFunction('convertToInteractive',\n",
              "                                                    [key], {});\n",
              "        if (!dataTable) return;\n",
              "\n",
              "        const docLinkHtml = 'Like what you see? Visit the ' +\n",
              "          '<a target=\"_blank\" href=https://colab.research.google.com/notebooks/data_table.ipynb>data table notebook</a>'\n",
              "          + ' to learn more about interactive tables.';\n",
              "        element.innerHTML = '';\n",
              "        dataTable['output_type'] = 'display_data';\n",
              "        await google.colab.output.renderOutput(dataTable, element);\n",
              "        const docLink = document.createElement('div');\n",
              "        docLink.innerHTML = docLinkHtml;\n",
              "        element.appendChild(docLink);\n",
              "      }\n",
              "    </script>\n",
              "  </div>\n",
              "\n",
              "\n",
              "<div id=\"df-f1211de2-4e6c-40cf-b6ec-5b6789e32f99\">\n",
              "  <button class=\"colab-df-quickchart\" onclick=\"quickchart('df-f1211de2-4e6c-40cf-b6ec-5b6789e32f99')\"\n",
              "            title=\"Suggest charts.\"\n",
              "            style=\"display:none;\">\n",
              "\n",
              "<svg xmlns=\"http://www.w3.org/2000/svg\" height=\"24px\"viewBox=\"0 0 24 24\"\n",
              "     width=\"24px\">\n",
              "    <g>\n",
              "        <path d=\"M19 3H5c-1.1 0-2 .9-2 2v14c0 1.1.9 2 2 2h14c1.1 0 2-.9 2-2V5c0-1.1-.9-2-2-2zM9 17H7v-7h2v7zm4 0h-2V7h2v10zm4 0h-2v-4h2v4z\"/>\n",
              "    </g>\n",
              "</svg>\n",
              "  </button>\n",
              "\n",
              "<style>\n",
              "  .colab-df-quickchart {\n",
              "    background-color: #E8F0FE;\n",
              "    border: none;\n",
              "    border-radius: 50%;\n",
              "    cursor: pointer;\n",
              "    display: none;\n",
              "    fill: #1967D2;\n",
              "    height: 32px;\n",
              "    padding: 0 0 0 0;\n",
              "    width: 32px;\n",
              "  }\n",
              "\n",
              "  .colab-df-quickchart:hover {\n",
              "    background-color: #E2EBFA;\n",
              "    box-shadow: 0px 1px 2px rgba(60, 64, 67, 0.3), 0px 1px 3px 1px rgba(60, 64, 67, 0.15);\n",
              "    fill: #174EA6;\n",
              "  }\n",
              "\n",
              "  [theme=dark] .colab-df-quickchart {\n",
              "    background-color: #3B4455;\n",
              "    fill: #D2E3FC;\n",
              "  }\n",
              "\n",
              "  [theme=dark] .colab-df-quickchart:hover {\n",
              "    background-color: #434B5C;\n",
              "    box-shadow: 0px 1px 3px 1px rgba(0, 0, 0, 0.15);\n",
              "    filter: drop-shadow(0px 1px 2px rgba(0, 0, 0, 0.3));\n",
              "    fill: #FFFFFF;\n",
              "  }\n",
              "</style>\n",
              "\n",
              "  <script>\n",
              "    async function quickchart(key) {\n",
              "      const charts = await google.colab.kernel.invokeFunction(\n",
              "          'suggestCharts', [key], {});\n",
              "    }\n",
              "    (() => {\n",
              "      let quickchartButtonEl =\n",
              "        document.querySelector('#df-f1211de2-4e6c-40cf-b6ec-5b6789e32f99 button');\n",
              "      quickchartButtonEl.style.display =\n",
              "        google.colab.kernel.accessAllowed ? 'block' : 'none';\n",
              "    })();\n",
              "  </script>\n",
              "</div>\n",
              "    </div>\n",
              "  </div>\n"
            ],
            "text/plain": [
              "          Duration     Pulse  Maxpulse  Calories\n",
              "Duration  1.000000 -0.155408  0.009403  0.922717\n",
              "Pulse    -0.155408  1.000000  0.786535  0.025121\n",
              "Maxpulse  0.009403  0.786535  1.000000  0.203813\n",
              "Calories  0.922717  0.025121  0.203813  1.000000"
            ]
          },
          "execution_count": 1,
          "metadata": {},
          "output_type": "execute_result"
        }
      ],
      "source": [
        "import pandas as pd\n",
        "df=pd.read_csv('/content/drive/MyDrive/data.csv')\n",
        "df.corr()  #correlation"
      ]
    },
    {
      "cell_type": "code",
      "execution_count": null,
      "metadata": {
        "colab": {
          "base_uri": "https://localhost:8080/",
          "height": 448
        },
        "id": "zi4uC6cD-CJO",
        "outputId": "d4a40a43-efe8-4308-db17-f788351e82b6"
      },
      "outputs": [
        {
          "data": {
            "text/plain": [
              "<Axes: >"
            ]
          },
          "execution_count": 4,
          "metadata": {},
          "output_type": "execute_result"
        },
        {
          "data": {
            "image/png": "[encoded data removed]",
            "text/plain": [
              "<Figure size 640x480 with 1 Axes>"
            ]
          },
          "metadata": {},
          "output_type": "display_data"
        }
      ],
      "source": [
        "import matplotlib.pyplot as plt\n",
        "import pandas as pd\n",
        "df=pd.read_csv('/content/drive/MyDrive/data.csv')\n",
        "df.plot()\n"
      ]
    },
    {
      "cell_type": "code",
      "execution_count": null,
      "metadata": {
        "colab": {
          "base_uri": "https://localhost:8080/",
          "height": 467
        },
        "id": "SKIhTN5Y-ayN",
        "outputId": "9cb66080-108b-4838-beeb-2ffb97ea0255"
      },
      "outputs": [
        {
          "data": {
            "text/plain": [
              "<Axes: xlabel='Duration', ylabel='Maxpulse'>"
            ]
          },
          "execution_count": 6,
          "metadata": {},
          "output_type": "execute_result"
        },
        {
          "data": {
            "image/png": "[encoded data removed]",
            "text/plain": [
              "<Figure size 640x480 with 1 Axes>"
            ]
          },
          "metadata": {},
          "output_type": "display_data"
        }
      ],
      "source": [
        "import matplotlib.pyplot as plt\n",
        "import pandas as pd\n",
        "df=pd.read_csv('/content/drive/MyDrive/data.csv')\n",
        "df.plot(kind='scatter',x='Duration',y='Maxpulse')\n"
      ]
    },
    {
      "cell_type": "code",
      "execution_count": null,
      "metadata": {
        "colab": {
          "base_uri": "https://localhost:8080/"
        },
        "id": "XfsnuMdyAFb_",
        "outputId": "bcc5beff-5025-4b06-ff88-bda540267fa3"
      },
      "outputs": [
        {
          "name": "stdout",
          "output_type": "stream",
          "text": [
            "     Sepal.Length  Sepal.Width  Petal.Length  Petal.Width     Species\n",
            "0             5.1          3.5           1.4          0.2      setosa\n",
            "1             4.9          3.0           1.4          0.2      setosa\n",
            "2             4.7          3.2           1.3          0.2      setosa\n",
            "3             4.6          3.1           1.5          0.2      setosa\n",
            "4             5.0          3.6           1.4          0.2      setosa\n",
            "5             5.4          3.9           1.7          0.4      setosa\n",
            "6             4.6          3.4           1.4          0.3      setosa\n",
            "7             5.0          3.4           1.5          0.2      setosa\n",
            "8             4.4          2.9           1.4          0.2      setosa\n",
            "9             4.9          3.1           1.5          0.1      setosa\n",
            "10            5.4          3.7           1.5          0.2      setosa\n",
            "11            4.8          3.4           1.6          0.2      setosa\n",
            "12            4.8          3.0           1.4          0.1      setosa\n",
            "13            4.3          3.0           1.1          0.1      setosa\n",
            "14            5.8          4.0           1.2          0.2      setosa\n",
            "15            5.7          4.4           1.5          0.4      setosa\n",
            "16            5.4          3.9           1.3          0.4      setosa\n",
            "17            5.1          3.5           1.4          0.3      setosa\n",
            "18            5.7          3.8           1.7          0.3      setosa\n",
            "19            5.1          3.8           1.5          0.3      setosa\n",
            "20            5.4          3.4           1.7          0.2      setosa\n",
            "21            5.1          3.7           1.5          0.4      setosa\n",
            "22            4.6          3.6           1.0          0.2      setosa\n",
            "23            5.1          3.3           1.7          0.5      setosa\n",
            "24            4.8          3.4           1.9          0.2      setosa\n",
            "25            5.0          3.0           1.6          0.2      setosa\n",
            "26            5.0          3.4           1.6          0.4      setosa\n",
            "27            5.2          3.5           1.5          0.2      setosa\n",
            "28            5.2          3.4           1.4          0.2      setosa\n",
            "29            4.7          3.2           1.6          0.2      setosa\n",
            "30            4.8          3.1           1.6          0.2      setosa\n",
            "31            5.4          3.4           1.5          0.4      setosa\n",
            "32            5.2          4.1           1.5          0.1      setosa\n",
            "33            5.5          4.2           1.4          0.2      setosa\n",
            "34            4.9          3.1           1.5          0.2      setosa\n",
            "35            5.0          3.2           1.2          0.2      setosa\n",
            "36            5.5          3.5           1.3          0.2      setosa\n",
            "37            4.9          3.6           1.4          0.1      setosa\n",
            "38            4.4          3.0           1.3          0.2      setosa\n",
            "39            5.1          3.4           1.5          0.2      setosa\n",
            "40            5.0          3.5           1.3          0.3      setosa\n",
            "41            4.5          2.3           1.3          0.3      setosa\n",
            "42            4.4          3.2           1.3          0.2      setosa\n",
            "43            5.0          3.5           1.6          0.6      setosa\n",
            "44            5.1          3.8           1.9          0.4      setosa\n",
            "45            4.8          3.0           1.4          0.3      setosa\n",
            "46            5.1          3.8           1.6          0.2      setosa\n",
            "47            4.6          3.2           1.4          0.2      setosa\n",
            "48            5.3          3.7           1.5          0.2      setosa\n",
            "49            5.0          3.3           1.4          0.2      setosa\n",
            "50            7.0          3.2           4.7          1.4  versicolor\n",
            "51            6.4          3.2           4.5          1.5  versicolor\n",
            "52            6.9          3.1           4.9          1.5  versicolor\n",
            "53            5.5          2.3           4.0          1.3  versicolor\n",
            "54            6.5          2.8           4.6          1.5  versicolor\n",
            "55            5.7          2.8           4.5          1.3  versicolor\n",
            "56            6.3          3.3           4.7          1.6  versicolor\n",
            "57            4.9          2.4           3.3          1.0  versicolor\n",
            "58            6.6          2.9           4.6          1.3  versicolor\n",
            "59            5.2          2.7           3.9          1.4  versicolor\n",
            "60            5.0          2.0           3.5          1.0  versicolor\n",
            "61            5.9          3.0           4.2          1.5  versicolor\n",
            "62            6.0          2.2           4.0          1.0  versicolor\n",
            "63            6.1          2.9           4.7          1.4  versicolor\n",
            "64            5.6          2.9           3.6          1.3  versicolor\n",
            "65            6.7          3.1           4.4          1.4  versicolor\n",
            "66            5.6          3.0           4.5          1.5  versicolor\n",
            "67            5.8          2.7           4.1          1.0  versicolor\n",
            "68            6.2          2.2           4.5          1.5  versicolor\n",
            "69            5.6          2.5           3.9          1.1  versicolor\n",
            "70            5.9          3.2           4.8          1.8  versicolor\n",
            "71            6.1          2.8           4.0          1.3  versicolor\n",
            "72            6.3          2.5           4.9          1.5  versicolor\n",
            "73            6.1          2.8           4.7          1.2  versicolor\n",
            "74            6.4          2.9           4.3          1.3  versicolor\n",
            "75            6.6          3.0           4.4          1.4  versicolor\n",
            "76            6.8          2.8           4.8          1.4  versicolor\n",
            "77            6.7          3.0           5.0          1.7  versicolor\n",
            "78            6.0          2.9           4.5          1.5  versicolor\n",
            "79            5.7          2.6           3.5          1.0  versicolor\n",
            "80            5.5          2.4           3.8          1.1  versicolor\n",
            "81            5.5          2.4           3.7          1.0  versicolor\n",
            "82            5.8          2.7           3.9          1.2  versicolor\n",
            "83            6.0          2.7           5.1          1.6  versicolor\n",
            "84            5.4          3.0           4.5          1.5  versicolor\n",
            "85            6.0          3.4           4.5          1.6  versicolor\n",
            "86            6.7          3.1           4.7          1.5  versicolor\n",
            "87            6.3          2.3           4.4          1.3  versicolor\n",
            "88            5.6          3.0           4.1          1.3  versicolor\n",
            "89            5.5          2.5           4.0          1.3  versicolor\n",
            "90            5.5          2.6           4.4          1.2  versicolor\n",
            "91            6.1          3.0           4.6          1.4  versicolor\n",
            "92            5.8          2.6           4.0          1.2  versicolor\n",
            "93            5.0          2.3           3.3          1.0  versicolor\n",
            "94            5.6          2.7           4.2          1.3  versicolor\n",
            "95            5.7          3.0           4.2          1.2  versicolor\n",
            "96            5.7          2.9           4.2          1.3  versicolor\n",
            "97            6.2          2.9           4.3          1.3  versicolor\n",
            "98            5.1          2.5           3.0          1.1  versicolor\n",
            "99            5.7          2.8           4.1          1.3  versicolor\n",
            "100           6.3          3.3           6.0          2.5   virginica\n",
            "101           5.8          2.7           5.1          1.9   virginica\n",
            "102           7.1          3.0           5.9          2.1   virginica\n",
            "103           6.3          2.9           5.6          1.8   virginica\n",
            "104           6.5          3.0           5.8          2.2   virginica\n",
            "105           7.6          3.0           6.6          2.1   virginica\n",
            "106           4.9          2.5           4.5          1.7   virginica\n",
            "107           7.3          2.9           6.3          1.8   virginica\n",
            "108           6.7          2.5           5.8          1.8   virginica\n",
            "109           7.2          3.6           6.1          2.5   virginica\n",
            "110           6.5          3.2           5.1          2.0   virginica\n",
            "111           6.4          2.7           5.3          1.9   virginica\n",
            "112           6.8          3.0           5.5          2.1   virginica\n",
            "113           5.7          2.5           5.0          2.0   virginica\n",
            "114           5.8          2.8           5.1          2.4   virginica\n",
            "115           6.4          3.2           5.3          2.3   virginica\n",
            "116           6.5          3.0           5.5          1.8   virginica\n",
            "117           7.7          3.8           6.7          2.2   virginica\n",
            "118           7.7          2.6           6.9          2.3   virginica\n",
            "119           6.0          2.2           5.0          1.5   virginica\n",
            "120           6.9          3.2           5.7          2.3   virginica\n",
            "121           5.6          2.8           4.9          2.0   virginica\n",
            "122           7.7          2.8           6.7          2.0   virginica\n",
            "123           6.3          2.7           4.9          1.8   virginica\n",
            "124           6.7          3.3           5.7          2.1   virginica\n",
            "125           7.2          3.2           6.0          1.8   virginica\n",
            "126           6.2          2.8           4.8          1.8   virginica\n",
            "127           6.1          3.0           4.9          1.8   virginica\n",
            "128           6.4          2.8           5.6          2.1   virginica\n",
            "129           7.2          3.0           5.8          1.6   virginica\n",
            "130           7.4          2.8           6.1          1.9   virginica\n",
            "131           7.9          3.8           6.4          2.0   virginica\n",
            "132           6.4          2.8           5.6          2.2   virginica\n",
            "133           6.3          2.8           5.1          1.5   virginica\n",
            "134           6.1          2.6           5.6          1.4   virginica\n",
            "135           7.7          3.0           6.1          2.3   virginica\n",
            "136           6.3          3.4           5.6          2.4   virginica\n",
            "137           6.4          3.1           5.5          1.8   virginica\n",
            "138           6.0          3.0           4.8          1.8   virginica\n",
            "139           6.9          3.1           5.4          2.1   virginica\n",
            "140           6.7          3.1           5.6          2.4   virginica\n",
            "141           6.9          3.1           5.1          2.3   virginica\n",
            "142           5.8          2.7           5.1          1.9   virginica\n",
            "143           6.8          3.2           5.9          2.3   virginica\n",
            "144           6.7          3.3           5.7          2.5   virginica\n",
            "145           6.7          3.0           5.2          2.3   virginica\n",
            "146           6.3          2.5           5.0          1.9   virginica\n",
            "147           6.5          3.0           5.2          2.0   virginica\n",
            "148           6.2          3.4           5.4          2.3   virginica\n",
            "149           5.9          3.0           5.1          1.8   virginica\n"
          ]
        }
      ],
      "source": [
        "import pandas as pd\n",
        "y=pd.read_csv(\"/content/drive/MyDrive/iris.csv\")\n",
        "print(y. to_string())"
      ]
    },
    {
      "cell_type": "code",
      "execution_count": null,
      "metadata": {
        "colab": {
          "base_uri": "https://localhost:8080/",
          "height": 472
        },
        "id": "12AfORM3AmRQ",
        "outputId": "31089132-c731-4b97-c79e-4748abfdde4e"
      },
      "outputs": [
        {
          "data": {
            "image/png": "[encoded data removed]",
            "text/plain": [
              "<Figure size 640x480 with 1 Axes>"
            ]
          },
          "metadata": {},
          "output_type": "display_data"
        }
      ],
      "source": [
        "import matplotlib.pyplot as plt\n",
        "import numpy as np\n",
        "\n",
        "x = plt.bar([\"Sepal.Length\", \"Sepal.Width\", \"Petal.Length\", \"Petal.Width\"], [5.843333, 3.057333, 3.758000, 1.199333])\n",
        "\n",
        "plt.title(\"Mean graph\")\n",
        "plt.xlabel(\"Flower characteristics\")\n",
        "plt.ylabel(\"Mean\")\n",
        "x[0].set_color('red')\n",
        "x[1].set_color('green')\n",
        "x[2].set_color('blue')\n",
        "x[3].set_color('pink')\n",
        "plt.show()"
      ]
    },
    {
      "cell_type": "code",
      "execution_count": null,
      "metadata": {
        "colab": {
          "base_uri": "https://localhost:8080/",
          "height": 472
        },
        "id": "-bL9X1SIBP8R",
        "outputId": "713ee230-7dcf-4752-fd13-b877ab54559b"
      },
      "outputs": [
        {
          "data": {
            "image/png": "[encoded data removed]",
            "text/plain": [
              "<Figure size 640x480 with 1 Axes>"
            ]
          },
          "metadata": {},
          "output_type": "display_data"
        }
      ],
      "source": [
        "import matplotlib.pyplot as plt\n",
        "import numpy as np\n",
        "\n",
        "x = plt.bar([\"Sepal.Length\", \"Sepal.Width\", \"Petal.Length\", \"Petal.Width\"], [5.80, 3.00, 4.35, 1.30])\n",
        "\n",
        "plt.title(\"Median graph\")\n",
        "plt.xlabel(\"Flower characteristics\")\n",
        "plt.ylabel(\"Median\")\n",
        "x[0].set_color('green')\n",
        "x[1].set_color('black')\n",
        "x[2].set_color('red')\n",
        "x[3].set_color('pink')\n",
        "plt.show()"
      ]
    },
    {
      "cell_type": "code",
      "source": [
        "# Create an empty list\n",
        "numbers = []\n",
        "\n",
        "# Get the number of elements from the user\n",
        "n = int(input(\"Enter the number of elements: \"))\n",
        "\n",
        "# Fill the list with user input\n",
        "for i in range(n):\n",
        "    num = int(input(f\"Enter element {i + 1}: \"))\n",
        "    numbers.append(num)\n",
        "\n",
        "# Separate even and odd numbers into different lists\n",
        "even_numbers = []\n",
        "odd_numbers = []\n",
        "\n",
        "for num in numbers:\n",
        "    if num % 2 == 0:\n",
        "        even_numbers.append(num)\n",
        "    else:\n",
        "        odd_numbers.append(num)\n",
        "\n",
        "# Print the even and odd lists\n",
        "print(\"Even numbers:\", even_numbers)\n",
        "print(\"Odd numbers:\", odd_numbers)\n"
      ],
      "metadata": {
        "colab": {
          "base_uri": "https://localhost:8080/"
        },
        "id": "ul5_caazNOz1",
        "outputId": "bc81bd8d-002b-4191-b3d3-f37481a80dbf"
      },
      "execution_count": 6,
      "outputs": [
        {
          "output_type": "stream",
          "name": "stdout",
          "text": [
            "Enter the number of elements: 4\n",
            "Enter element 1: 1\n",
            "Enter element 2: 2\n",
            "Enter element 3: 3\n",
            "Enter element 4: 4\n",
            "Even numbers: [2, 4]\n",
            "Odd numbers: [1, 3]\n"
          ]
        }
      ]
    },
    {
      "cell_type": "code",
      "source": [
        "fruits = [\"apple\", \"banana\", \"orange\"]\n",
        "print(fruits[0])\n",
        "fruits.append(\"grape\")\n",
        "print(fruits)\n",
        "person={\"name\":\"Rashmi\"}\n",
        "print(person[\"name\"])\n",
        "person[\"location\"]=\"Hubli\"\n",
        "print(person)\n",
        "file=open(\"Shravan.txt\",\"w\")\n",
        "file.write(\"hello file\")\n",
        "file.close()"
      ],
      "metadata": {
        "colab": {
          "base_uri": "https://localhost:8080/"
        },
        "id": "iUJ2OxWYPuQN",
        "outputId": "ff0a2348-1e21-494b-c724-3ad8f7377203"
      },
      "execution_count": 18,
      "outputs": [
        {
          "output_type": "stream",
          "name": "stdout",
          "text": [
            "apple\n",
            "['apple', 'banana', 'orange', 'grape']\n",
            "Rashmi\n",
            "{'name': 'Rashmi', 'location': 'Hubli'}\n"
          ]
        }
      ]
    },
    {
      "cell_type": "code",
      "source": [
        "def swap(list,pos1,pos2):\n",
        "  list[pos1],list[pos2]=list[pos2],list[pos1]\n",
        "  return list\n",
        "list=[23,45,78,12]\n",
        "pos1,pos2=1,2\n",
        "print(swap(list,pos1-1,pos2-1))"
      ],
      "metadata": {
        "colab": {
          "base_uri": "https://localhost:8080/"
        },
        "id": "wSdQEKMRhHbZ",
        "outputId": "15aaf64e-b13b-4bc8-a2fb-8d34f95444ee"
      },
      "execution_count": 20,
      "outputs": [
        {
          "output_type": "stream",
          "name": "stdout",
          "text": [
            "[45, 23, 78, 12]\n"
          ]
        }
      ]
    },
    {
      "cell_type": "markdown",
      "source": [
        "Multiples of a Given number"
      ],
      "metadata": {
        "id": "EKYICnCCyl11"
      }
    },
    {
      "cell_type": "code",
      "source": [
        "j=int(input(\"enter the number \"))\n",
        "for i in range(1,11):\n",
        "  print(\"%d\"%j,\"X\",i,\"=\",j*i)\n"
      ],
      "metadata": {
        "colab": {
          "base_uri": "https://localhost:8080/"
        },
        "id": "tGDF-0KPh0zw",
        "outputId": "0ad2d53f-ad86-4809-f702-eccdf3912c81"
      },
      "execution_count": 23,
      "outputs": [
        {
          "output_type": "stream",
          "name": "stdout",
          "text": [
            "enter the number 132\n",
            "132 X 1 = 132\n",
            "132 X 2 = 264\n",
            "132 X 3 = 396\n",
            "132 X 4 = 528\n",
            "132 X 5 = 660\n",
            "132 X 6 = 792\n",
            "132 X 7 = 924\n",
            "132 X 8 = 1056\n",
            "132 X 9 = 1188\n",
            "132 X 10 = 1320\n"
          ]
        }
      ]
    },
    {
      "cell_type": "code",
      "source": [
        "import pandas as pd\n",
        "y=pd.read_csv(\"/content/drive/MyDrive/iris.csv\")\n",
        "print(y. to_string())"
      ],
      "metadata": {
        "colab": {
          "base_uri": "https://localhost:8080/"
        },
        "id": "i0Q7XHxbF6bp",
        "outputId": "ee92aefa-d04a-449e-ccde-7ad171771172"
      },
      "execution_count": 1,
      "outputs": [
        {
          "output_type": "stream",
          "name": "stdout",
          "text": [
            "     Sepal.Length  Sepal.Width  Petal.Length  Petal.Width     Species\n",
            "0             5.1          3.5           1.4          0.2      setosa\n",
            "1             4.9          3.0           1.4          0.2      setosa\n",
            "2             4.7          3.2           1.3          0.2      setosa\n",
            "3             4.6          3.1           1.5          0.2      setosa\n",
            "4             5.0          3.6           1.4          0.2      setosa\n",
            "5             5.4          3.9           1.7          0.4      setosa\n",
            "6             4.6          3.4           1.4          0.3      setosa\n",
            "7             5.0          3.4           1.5          0.2      setosa\n",
            "8             4.4          2.9           1.4          0.2      setosa\n",
            "9             4.9          3.1           1.5          0.1      setosa\n",
            "10            5.4          3.7           1.5          0.2      setosa\n",
            "11            4.8          3.4           1.6          0.2      setosa\n",
            "12            4.8          3.0           1.4          0.1      setosa\n",
            "13            4.3          3.0           1.1          0.1      setosa\n",
            "14            5.8          4.0           1.2          0.2      setosa\n",
            "15            5.7          4.4           1.5          0.4      setosa\n",
            "16            5.4          3.9           1.3          0.4      setosa\n",
            "17            5.1          3.5           1.4          0.3      setosa\n",
            "18            5.7          3.8           1.7          0.3      setosa\n",
            "19            5.1          3.8           1.5          0.3      setosa\n",
            "20            5.4          3.4           1.7          0.2      setosa\n",
            "21            5.1          3.7           1.5          0.4      setosa\n",
            "22            4.6          3.6           1.0          0.2      setosa\n",
            "23            5.1          3.3           1.7          0.5      setosa\n",
            "24            4.8          3.4           1.9          0.2      setosa\n",
            "25            5.0          3.0           1.6          0.2      setosa\n",
            "26            5.0          3.4           1.6          0.4      setosa\n",
            "27            5.2          3.5           1.5          0.2      setosa\n",
            "28            5.2          3.4           1.4          0.2      setosa\n",
            "29            4.7          3.2           1.6          0.2      setosa\n",
            "30            4.8          3.1           1.6          0.2      setosa\n",
            "31            5.4          3.4           1.5          0.4      setosa\n",
            "32            5.2          4.1           1.5          0.1      setosa\n",
            "33            5.5          4.2           1.4          0.2      setosa\n",
            "34            4.9          3.1           1.5          0.2      setosa\n",
            "35            5.0          3.2           1.2          0.2      setosa\n",
            "36            5.5          3.5           1.3          0.2      setosa\n",
            "37            4.9          3.6           1.4          0.1      setosa\n",
            "38            4.4          3.0           1.3          0.2      setosa\n",
            "39            5.1          3.4           1.5          0.2      setosa\n",
            "40            5.0          3.5           1.3          0.3      setosa\n",
            "41            4.5          2.3           1.3          0.3      setosa\n",
            "42            4.4          3.2           1.3          0.2      setosa\n",
            "43            5.0          3.5           1.6          0.6      setosa\n",
            "44            5.1          3.8           1.9          0.4      setosa\n",
            "45            4.8          3.0           1.4          0.3      setosa\n",
            "46            5.1          3.8           1.6          0.2      setosa\n",
            "47            4.6          3.2           1.4          0.2      setosa\n",
            "48            5.3          3.7           1.5          0.2      setosa\n",
            "49            5.0          3.3           1.4          0.2      setosa\n",
            "50            7.0          3.2           4.7          1.4  versicolor\n",
            "51            6.4          3.2           4.5          1.5  versicolor\n",
            "52            6.9          3.1           4.9          1.5  versicolor\n",
            "53            5.5          2.3           4.0          1.3  versicolor\n",
            "54            6.5          2.8           4.6          1.5  versicolor\n",
            "55            5.7          2.8           4.5          1.3  versicolor\n",
            "56            6.3          3.3           4.7          1.6  versicolor\n",
            "57            4.9          2.4           3.3          1.0  versicolor\n",
            "58            6.6          2.9           4.6          1.3  versicolor\n",
            "59            5.2          2.7           3.9          1.4  versicolor\n",
            "60            5.0          2.0           3.5          1.0  versicolor\n",
            "61            5.9          3.0           4.2          1.5  versicolor\n",
            "62            6.0          2.2           4.0          1.0  versicolor\n",
            "63            6.1          2.9           4.7          1.4  versicolor\n",
            "64            5.6          2.9           3.6          1.3  versicolor\n",
            "65            6.7          3.1           4.4          1.4  versicolor\n",
            "66            5.6          3.0           4.5          1.5  versicolor\n",
            "67            5.8          2.7           4.1          1.0  versicolor\n",
            "68            6.2          2.2           4.5          1.5  versicolor\n",
            "69            5.6          2.5           3.9          1.1  versicolor\n",
            "70            5.9          3.2           4.8          1.8  versicolor\n",
            "71            6.1          2.8           4.0          1.3  versicolor\n",
            "72            6.3          2.5           4.9          1.5  versicolor\n",
            "73            6.1          2.8           4.7          1.2  versicolor\n",
            "74            6.4          2.9           4.3          1.3  versicolor\n",
            "75            6.6          3.0           4.4          1.4  versicolor\n",
            "76            6.8          2.8           4.8          1.4  versicolor\n",
            "77            6.7          3.0           5.0          1.7  versicolor\n",
            "78            6.0          2.9           4.5          1.5  versicolor\n",
            "79            5.7          2.6           3.5          1.0  versicolor\n",
            "80            5.5          2.4           3.8          1.1  versicolor\n",
            "81            5.5          2.4           3.7          1.0  versicolor\n",
            "82            5.8          2.7           3.9          1.2  versicolor\n",
            "83            6.0          2.7           5.1          1.6  versicolor\n",
            "84            5.4          3.0           4.5          1.5  versicolor\n",
            "85            6.0          3.4           4.5          1.6  versicolor\n",
            "86            6.7          3.1           4.7          1.5  versicolor\n",
            "87            6.3          2.3           4.4          1.3  versicolor\n",
            "88            5.6          3.0           4.1          1.3  versicolor\n",
            "89            5.5          2.5           4.0          1.3  versicolor\n",
            "90            5.5          2.6           4.4          1.2  versicolor\n",
            "91            6.1          3.0           4.6          1.4  versicolor\n",
            "92            5.8          2.6           4.0          1.2  versicolor\n",
            "93            5.0          2.3           3.3          1.0  versicolor\n",
            "94            5.6          2.7           4.2          1.3  versicolor\n",
            "95            5.7          3.0           4.2          1.2  versicolor\n",
            "96            5.7          2.9           4.2          1.3  versicolor\n",
            "97            6.2          2.9           4.3          1.3  versicolor\n",
            "98            5.1          2.5           3.0          1.1  versicolor\n",
            "99            5.7          2.8           4.1          1.3  versicolor\n",
            "100           6.3          3.3           6.0          2.5   virginica\n",
            "101           5.8          2.7           5.1          1.9   virginica\n",
            "102           7.1          3.0           5.9          2.1   virginica\n",
            "103           6.3          2.9           5.6          1.8   virginica\n",
            "104           6.5          3.0           5.8          2.2   virginica\n",
            "105           7.6          3.0           6.6          2.1   virginica\n",
            "106           4.9          2.5           4.5          1.7   virginica\n",
            "107           7.3          2.9           6.3          1.8   virginica\n",
            "108           6.7          2.5           5.8          1.8   virginica\n",
            "109           7.2          3.6           6.1          2.5   virginica\n",
            "110           6.5          3.2           5.1          2.0   virginica\n",
            "111           6.4          2.7           5.3          1.9   virginica\n",
            "112           6.8          3.0           5.5          2.1   virginica\n",
            "113           5.7          2.5           5.0          2.0   virginica\n",
            "114           5.8          2.8           5.1          2.4   virginica\n",
            "115           6.4          3.2           5.3          2.3   virginica\n",
            "116           6.5          3.0           5.5          1.8   virginica\n",
            "117           7.7          3.8           6.7          2.2   virginica\n",
            "118           7.7          2.6           6.9          2.3   virginica\n",
            "119           6.0          2.2           5.0          1.5   virginica\n",
            "120           6.9          3.2           5.7          2.3   virginica\n",
            "121           5.6          2.8           4.9          2.0   virginica\n",
            "122           7.7          2.8           6.7          2.0   virginica\n",
            "123           6.3          2.7           4.9          1.8   virginica\n",
            "124           6.7          3.3           5.7          2.1   virginica\n",
            "125           7.2          3.2           6.0          1.8   virginica\n",
            "126           6.2          2.8           4.8          1.8   virginica\n",
            "127           6.1          3.0           4.9          1.8   virginica\n",
            "128           6.4          2.8           5.6          2.1   virginica\n",
            "129           7.2          3.0           5.8          1.6   virginica\n",
            "130           7.4          2.8           6.1          1.9   virginica\n",
            "131           7.9          3.8           6.4          2.0   virginica\n",
            "132           6.4          2.8           5.6          2.2   virginica\n",
            "133           6.3          2.8           5.1          1.5   virginica\n",
            "134           6.1          2.6           5.6          1.4   virginica\n",
            "135           7.7          3.0           6.1          2.3   virginica\n",
            "136           6.3          3.4           5.6          2.4   virginica\n",
            "137           6.4          3.1           5.5          1.8   virginica\n",
            "138           6.0          3.0           4.8          1.8   virginica\n",
            "139           6.9          3.1           5.4          2.1   virginica\n",
            "140           6.7          3.1           5.6          2.4   virginica\n",
            "141           6.9          3.1           5.1          2.3   virginica\n",
            "142           5.8          2.7           5.1          1.9   virginica\n",
            "143           6.8          3.2           5.9          2.3   virginica\n",
            "144           6.7          3.3           5.7          2.5   virginica\n",
            "145           6.7          3.0           5.2          2.3   virginica\n",
            "146           6.3          2.5           5.0          1.9   virginica\n",
            "147           6.5          3.0           5.2          2.0   virginica\n",
            "148           6.2          3.4           5.4          2.3   virginica\n",
            "149           5.9          3.0           5.1          1.8   virginica\n"
          ]
        }
      ]
    },
    {
      "cell_type": "code",
      "source": [
        "import pandas as pd\n",
        "y=pd.read_csv(\"/content/drive/MyDrive/iris.csv\")\n",
        "y=y.sort_values(['Petal.Length'],ascending=False)\n",
        "print(y. to_string())\n",
        "y=y.reset_index(drop=True,inplace=True)\n"
      ],
      "metadata": {
        "colab": {
          "base_uri": "https://localhost:8080/"
        },
        "id": "I-fBBVuVGsW9",
        "outputId": "f5a1932d-9172-4dec-8b1d-d72fbfba8988"
      },
      "execution_count": 8,
      "outputs": [
        {
          "output_type": "stream",
          "name": "stdout",
          "text": [
            "     Sepal.Length  Sepal.Width  Petal.Length  Petal.Width     Species\n",
            "118           7.7          2.6           6.9          2.3   virginica\n",
            "122           7.7          2.8           6.7          2.0   virginica\n",
            "117           7.7          3.8           6.7          2.2   virginica\n",
            "105           7.6          3.0           6.6          2.1   virginica\n",
            "131           7.9          3.8           6.4          2.0   virginica\n",
            "107           7.3          2.9           6.3          1.8   virginica\n",
            "130           7.4          2.8           6.1          1.9   virginica\n",
            "109           7.2          3.6           6.1          2.5   virginica\n",
            "135           7.7          3.0           6.1          2.3   virginica\n",
            "100           6.3          3.3           6.0          2.5   virginica\n",
            "125           7.2          3.2           6.0          1.8   virginica\n",
            "102           7.1          3.0           5.9          2.1   virginica\n",
            "143           6.8          3.2           5.9          2.3   virginica\n",
            "129           7.2          3.0           5.8          1.6   virginica\n",
            "108           6.7          2.5           5.8          1.8   virginica\n",
            "104           6.5          3.0           5.8          2.2   virginica\n",
            "124           6.7          3.3           5.7          2.1   virginica\n",
            "144           6.7          3.3           5.7          2.5   virginica\n",
            "120           6.9          3.2           5.7          2.3   virginica\n",
            "132           6.4          2.8           5.6          2.2   virginica\n",
            "140           6.7          3.1           5.6          2.4   virginica\n",
            "103           6.3          2.9           5.6          1.8   virginica\n",
            "128           6.4          2.8           5.6          2.1   virginica\n",
            "134           6.1          2.6           5.6          1.4   virginica\n",
            "136           6.3          3.4           5.6          2.4   virginica\n",
            "112           6.8          3.0           5.5          2.1   virginica\n",
            "116           6.5          3.0           5.5          1.8   virginica\n",
            "137           6.4          3.1           5.5          1.8   virginica\n",
            "148           6.2          3.4           5.4          2.3   virginica\n",
            "139           6.9          3.1           5.4          2.1   virginica\n",
            "115           6.4          3.2           5.3          2.3   virginica\n",
            "111           6.4          2.7           5.3          1.9   virginica\n",
            "145           6.7          3.0           5.2          2.3   virginica\n",
            "147           6.5          3.0           5.2          2.0   virginica\n",
            "101           5.8          2.7           5.1          1.9   virginica\n",
            "83            6.0          2.7           5.1          1.6  versicolor\n",
            "110           6.5          3.2           5.1          2.0   virginica\n",
            "149           5.9          3.0           5.1          1.8   virginica\n",
            "114           5.8          2.8           5.1          2.4   virginica\n",
            "133           6.3          2.8           5.1          1.5   virginica\n",
            "142           5.8          2.7           5.1          1.9   virginica\n",
            "141           6.9          3.1           5.1          2.3   virginica\n",
            "113           5.7          2.5           5.0          2.0   virginica\n",
            "119           6.0          2.2           5.0          1.5   virginica\n",
            "77            6.7          3.0           5.0          1.7  versicolor\n",
            "146           6.3          2.5           5.0          1.9   virginica\n",
            "52            6.9          3.1           4.9          1.5  versicolor\n",
            "72            6.3          2.5           4.9          1.5  versicolor\n",
            "127           6.1          3.0           4.9          1.8   virginica\n",
            "121           5.6          2.8           4.9          2.0   virginica\n",
            "123           6.3          2.7           4.9          1.8   virginica\n",
            "138           6.0          3.0           4.8          1.8   virginica\n",
            "76            6.8          2.8           4.8          1.4  versicolor\n",
            "70            5.9          3.2           4.8          1.8  versicolor\n",
            "126           6.2          2.8           4.8          1.8   virginica\n",
            "63            6.1          2.9           4.7          1.4  versicolor\n",
            "86            6.7          3.1           4.7          1.5  versicolor\n",
            "56            6.3          3.3           4.7          1.6  versicolor\n",
            "73            6.1          2.8           4.7          1.2  versicolor\n",
            "50            7.0          3.2           4.7          1.4  versicolor\n",
            "58            6.6          2.9           4.6          1.3  versicolor\n",
            "91            6.1          3.0           4.6          1.4  versicolor\n",
            "54            6.5          2.8           4.6          1.5  versicolor\n",
            "85            6.0          3.4           4.5          1.6  versicolor\n",
            "55            5.7          2.8           4.5          1.3  versicolor\n",
            "84            5.4          3.0           4.5          1.5  versicolor\n",
            "66            5.6          3.0           4.5          1.5  versicolor\n",
            "78            6.0          2.9           4.5          1.5  versicolor\n",
            "68            6.2          2.2           4.5          1.5  versicolor\n",
            "106           4.9          2.5           4.5          1.7   virginica\n",
            "51            6.4          3.2           4.5          1.5  versicolor\n",
            "90            5.5          2.6           4.4          1.2  versicolor\n",
            "87            6.3          2.3           4.4          1.3  versicolor\n",
            "75            6.6          3.0           4.4          1.4  versicolor\n",
            "65            6.7          3.1           4.4          1.4  versicolor\n",
            "74            6.4          2.9           4.3          1.3  versicolor\n",
            "97            6.2          2.9           4.3          1.3  versicolor\n",
            "61            5.9          3.0           4.2          1.5  versicolor\n",
            "96            5.7          2.9           4.2          1.3  versicolor\n",
            "95            5.7          3.0           4.2          1.2  versicolor\n",
            "94            5.6          2.7           4.2          1.3  versicolor\n",
            "99            5.7          2.8           4.1          1.3  versicolor\n",
            "67            5.8          2.7           4.1          1.0  versicolor\n",
            "88            5.6          3.0           4.1          1.3  versicolor\n",
            "53            5.5          2.3           4.0          1.3  versicolor\n",
            "92            5.8          2.6           4.0          1.2  versicolor\n",
            "89            5.5          2.5           4.0          1.3  versicolor\n",
            "62            6.0          2.2           4.0          1.0  versicolor\n",
            "71            6.1          2.8           4.0          1.3  versicolor\n",
            "59            5.2          2.7           3.9          1.4  versicolor\n",
            "69            5.6          2.5           3.9          1.1  versicolor\n",
            "82            5.8          2.7           3.9          1.2  versicolor\n",
            "80            5.5          2.4           3.8          1.1  versicolor\n",
            "81            5.5          2.4           3.7          1.0  versicolor\n",
            "64            5.6          2.9           3.6          1.3  versicolor\n",
            "79            5.7          2.6           3.5          1.0  versicolor\n",
            "60            5.0          2.0           3.5          1.0  versicolor\n",
            "93            5.0          2.3           3.3          1.0  versicolor\n",
            "57            4.9          2.4           3.3          1.0  versicolor\n",
            "98            5.1          2.5           3.0          1.1  versicolor\n",
            "24            4.8          3.4           1.9          0.2      setosa\n",
            "44            5.1          3.8           1.9          0.4      setosa\n",
            "5             5.4          3.9           1.7          0.4      setosa\n",
            "18            5.7          3.8           1.7          0.3      setosa\n",
            "23            5.1          3.3           1.7          0.5      setosa\n",
            "20            5.4          3.4           1.7          0.2      setosa\n",
            "46            5.1          3.8           1.6          0.2      setosa\n",
            "43            5.0          3.5           1.6          0.6      setosa\n",
            "25            5.0          3.0           1.6          0.2      setosa\n",
            "26            5.0          3.4           1.6          0.4      setosa\n",
            "11            4.8          3.4           1.6          0.2      setosa\n",
            "29            4.7          3.2           1.6          0.2      setosa\n",
            "30            4.8          3.1           1.6          0.2      setosa\n",
            "21            5.1          3.7           1.5          0.4      setosa\n",
            "3             4.6          3.1           1.5          0.2      setosa\n",
            "19            5.1          3.8           1.5          0.3      setosa\n",
            "27            5.2          3.5           1.5          0.2      setosa\n",
            "31            5.4          3.4           1.5          0.4      setosa\n",
            "32            5.2          4.1           1.5          0.1      setosa\n",
            "15            5.7          4.4           1.5          0.4      setosa\n",
            "34            4.9          3.1           1.5          0.2      setosa\n",
            "10            5.4          3.7           1.5          0.2      setosa\n",
            "9             4.9          3.1           1.5          0.1      setosa\n",
            "39            5.1          3.4           1.5          0.2      setosa\n",
            "7             5.0          3.4           1.5          0.2      setosa\n",
            "48            5.3          3.7           1.5          0.2      setosa\n",
            "12            4.8          3.0           1.4          0.1      setosa\n",
            "17            5.1          3.5           1.4          0.3      setosa\n",
            "4             5.0          3.6           1.4          0.2      setosa\n",
            "8             4.4          2.9           1.4          0.2      setosa\n",
            "6             4.6          3.4           1.4          0.3      setosa\n",
            "0             5.1          3.5           1.4          0.2      setosa\n",
            "1             4.9          3.0           1.4          0.2      setosa\n",
            "33            5.5          4.2           1.4          0.2      setosa\n",
            "49            5.0          3.3           1.4          0.2      setosa\n",
            "47            4.6          3.2           1.4          0.2      setosa\n",
            "45            4.8          3.0           1.4          0.3      setosa\n",
            "37            4.9          3.6           1.4          0.1      setosa\n",
            "28            5.2          3.4           1.4          0.2      setosa\n",
            "41            4.5          2.3           1.3          0.3      setosa\n",
            "2             4.7          3.2           1.3          0.2      setosa\n",
            "42            4.4          3.2           1.3          0.2      setosa\n",
            "38            4.4          3.0           1.3          0.2      setosa\n",
            "40            5.0          3.5           1.3          0.3      setosa\n",
            "36            5.5          3.5           1.3          0.2      setosa\n",
            "16            5.4          3.9           1.3          0.4      setosa\n",
            "35            5.0          3.2           1.2          0.2      setosa\n",
            "14            5.8          4.0           1.2          0.2      setosa\n",
            "13            4.3          3.0           1.1          0.1      setosa\n",
            "22            4.6          3.6           1.0          0.2      setosa\n",
            "None\n"
          ]
        }
      ]
    },
    {
      "cell_type": "code",
      "source": [
        "def is_prime(num):\n",
        "    if num <= 1:\n",
        "        return 0\n",
        "    if num <= 3:\n",
        "        return 1\n",
        "    if num % 2 == 0 or num % 3 == 0:\n",
        "        return 0\n",
        "\n",
        "    i = 5\n",
        "    while i * i <= num:\n",
        "        if num % i == 0 or num % (i + 2) == 0:\n",
        "            return 0\n",
        "        i += 6\n",
        "\n",
        "    return 1\n",
        "\n",
        "x = int(input(\"Enter a number: \"))\n",
        "\n",
        "if is_prime(x):\n",
        "    print(\" is a prime number.\")\n",
        "else:\n",
        "    print(\" is not a prime number.\")\n",
        "    if x % 3 == 0:\n",
        "        print(\" is divisible by 3.\")\n",
        "    if x % 7 == 0:\n",
        "        print(\" is divisible by 7.\")\n",
        "    if x % 9 == 0:\n",
        "        print(\" is divisible by 9.\")\n",
        "    if x % 11 == 0:\n",
        "        print(\"is divisible by 11.\")"
      ],
      "metadata": {
        "colab": {
          "base_uri": "https://localhost:8080/"
        },
        "id": "0gS5mNWcPtfZ",
        "outputId": "f022337f-9855-4c6c-dd5e-bbba77fb7940"
      },
      "execution_count": 9,
      "outputs": [
        {
          "output_type": "stream",
          "name": "stdout",
          "text": [
            "Enter a number: 12\n",
            " is not a prime number.\n",
            " is divisible by 3.\n"
          ]
        }
      ]
    },
    {
      "cell_type": "code",
      "source": [
        "def pattern(n):\n",
        "    for i in range(1, n+1):\n",
        "      for j in range(1, i + 1):\n",
        "        print(\"* \", end=\"\")\n",
        "      print()\n",
        "n = int(input(\"Enter number of rows:\"))\n",
        "pattern(n)"
      ],
      "metadata": {
        "colab": {
          "base_uri": "https://localhost:8080/"
        },
        "id": "BNksCXBOP8M6",
        "outputId": "6c73d9d2-1f9d-4d32-b7da-74adb284a73a"
      },
      "execution_count": 14,
      "outputs": [
        {
          "output_type": "stream",
          "name": "stdout",
          "text": [
            "Enter number of rows:12\n",
            "* \n",
            "* * \n",
            "* * * \n",
            "* * * * \n",
            "* * * * * \n",
            "* * * * * * \n",
            "* * * * * * * \n",
            "* * * * * * * * \n",
            "* * * * * * * * * \n",
            "* * * * * * * * * * \n",
            "* * * * * * * * * * * \n",
            "* * * * * * * * * * * * \n"
          ]
        }
      ]
    },
    {
      "cell_type": "code",
      "source": [
        "str = input(\"Enter the string\")\n",
        "l = len(str)\n",
        "p = l-1\n",
        "index = 0\n",
        "while index < p:\n",
        "    if str[index] == str[p]:\n",
        "        index = index + 1\n",
        "        p = p-1\n",
        "        print(\"String is a palindrome\")\n",
        "        break\n",
        "    else:\n",
        "        print(\"string is not a palindrome\")\n",
        "        break"
      ],
      "metadata": {
        "colab": {
          "base_uri": "https://localhost:8080/"
        },
        "id": "-KC7mDxKRiE_",
        "outputId": "d06b5088-dc5e-4feb-de36-183bb88d1a19"
      },
      "execution_count": 13,
      "outputs": [
        {
          "output_type": "stream",
          "name": "stdout",
          "text": [
            "Enter the stringras5\n",
            "string is not a palindrome\n"
          ]
        }
      ]
    }
  ],
  "metadata": {
    "colab": {
      "provenance": []
    },
    "kernelspec": {
      "display_name": "Python 3",
      "name": "python3"
    },
    "language_info": {
      "name": "python"
    }
  },
  "nbformat": 4,
  "nbformat_minor": 0
}