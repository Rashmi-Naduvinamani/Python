{
  "nbformat": 4,
  "nbformat_minor": 0,
  "metadata": {
    "colab": {
      "provenance": []
    },
    "kernelspec": {
      "name": "python3",
      "display_name": "Python 3"
    },
    "language_info": {
      "name": "python"
    }
  },
  "cells": [
    {
      "cell_type": "code",
      "source": [
        "# Train a logistic regression classifier to predict whether a flower is iris virginica or not\n",
        "from sklearn import datasets\n",
        "from sklearn.linear_model import LogisticRegression\n",
        "import numpy as np\n",
        "import matplotlib.pyplot as plt\n",
        "iris = datasets.load_iris()\n",
        "# print(list(iris.keys()))\n",
        "# print(iris['data'].shape)\n",
        "# print(iris['target'])\n",
        "# print(iris['DESCR'])\n",
        "\n",
        "X = iris[\"data\"][:, 3:]\n",
        "y = (iris[\"target\"] == 2).astype(np.int)\n",
        "# Train a logistic regression classifier\n",
        "clf = LogisticRegression()\n",
        "clf.fit(X,y)\n",
        "example = clf.predict(([[0.6]]))\n",
        "print(example)\n",
        "\n",
        "# Using matplotlib to plot the visualization\n",
        "X_new = np.linspace(0,3,1000).reshape(-1,1)\n",
        "y_prob = clf.predict_proba(X_new)\n",
        "print(y_prob)\n",
        "plt.plot(X_new, y_prob[:,1], \"g-\", label=\"virginica\")\n",
        "plt.show()\n",
        "\n",
        "\n",
        "# print(y)\n",
        "# print(iris[\"data\"])\n",
        "# print(X)\n",
        "\n",
        "\n",
        "\n",
        "\n"
      ],
      "metadata": {
        "colab": {
          "base_uri": "https://localhost:8080/",
          "height": 649
        },
        "id": "GL_5IQJjxQhn",
        "outputId": "51ecbc86-91b4-4a97-df3d-71bb296b952e"
      },
      "execution_count": null,
      "outputs": [
        {
          "output_type": "stream",
          "name": "stdout",
          "text": [
            "[0]\n",
            "[[9.99250016e-01 7.49984089e-04]\n",
            " [9.99240201e-01 7.59799387e-04]\n",
            " [9.99230257e-01 7.69743043e-04]\n",
            " ...\n",
            " [3.08374822e-03 9.96916252e-01]\n",
            " [3.04400296e-03 9.96955997e-01]\n",
            " [3.00476842e-03 9.96995232e-01]]\n"
          ]
        },
        {
          "output_type": "stream",
          "name": "stderr",
          "text": [
            "<ipython-input-15-c8cd88c4a017>:13: DeprecationWarning: `np.int` is a deprecated alias for the builtin `int`. To silence this warning, use `int` by itself. Doing this will not modify any behavior and is safe. When replacing `np.int`, you may wish to use e.g. `np.int64` or `np.int32` to specify the precision. If you wish to review your current use, check the release note link for additional information.\n",
            "Deprecated in NumPy 1.20; for more details and guidance: https://numpy.org/devdocs/release/1.20.0-notes.html#deprecations\n",
            "  y = (iris[\"target\"] == 2).astype(np.int)\n"
          ]
        },
        {
          "output_type": "display_data",
          "data": {
            "text/plain": [
              "<Figure size 640x480 with 1 Axes>"
            ],
            "image/png": "[encoded data removed]"
          },
          "metadata": {}
        }
      ]
    },
    {
      "cell_type": "code",
      "source": [
        "##virginica or not\n",
        "from sklearn import datasets\n",
        "import numpy as np\n",
        "iris=datasets.load_iris()\n",
        "x=iris['data'][:,3:]\n",
        "y=(iris['target']==2).astype(np.int)\n",
        "print(x)\n",
        "y"
      ],
      "metadata": {
        "colab": {
          "base_uri": "https://localhost:8080/"
        },
        "id": "c3fkSF-DruoV",
        "outputId": "46327854-c014-4c78-c373-a9cafbc305a5"
      },
      "execution_count": null,
      "outputs": [
        {
          "output_type": "stream",
          "name": "stdout",
          "text": [
            "[[0.2]\n",
            " [0.2]\n",
            " [0.2]\n",
            " [0.2]\n",
            " [0.2]\n",
            " [0.4]\n",
            " [0.3]\n",
            " [0.2]\n",
            " [0.2]\n",
            " [0.1]\n",
            " [0.2]\n",
            " [0.2]\n",
            " [0.1]\n",
            " [0.1]\n",
            " [0.2]\n",
            " [0.4]\n",
            " [0.4]\n",
            " [0.3]\n",
            " [0.3]\n",
            " [0.3]\n",
            " [0.2]\n",
            " [0.4]\n",
            " [0.2]\n",
            " [0.5]\n",
            " [0.2]\n",
            " [0.2]\n",
            " [0.4]\n",
            " [0.2]\n",
            " [0.2]\n",
            " [0.2]\n",
            " [0.2]\n",
            " [0.4]\n",
            " [0.1]\n",
            " [0.2]\n",
            " [0.2]\n",
            " [0.2]\n",
            " [0.2]\n",
            " [0.1]\n",
            " [0.2]\n",
            " [0.2]\n",
            " [0.3]\n",
            " [0.3]\n",
            " [0.2]\n",
            " [0.6]\n",
            " [0.4]\n",
            " [0.3]\n",
            " [0.2]\n",
            " [0.2]\n",
            " [0.2]\n",
            " [0.2]\n",
            " [1.4]\n",
            " [1.5]\n",
            " [1.5]\n",
            " [1.3]\n",
            " [1.5]\n",
            " [1.3]\n",
            " [1.6]\n",
            " [1. ]\n",
            " [1.3]\n",
            " [1.4]\n",
            " [1. ]\n",
            " [1.5]\n",
            " [1. ]\n",
            " [1.4]\n",
            " [1.3]\n",
            " [1.4]\n",
            " [1.5]\n",
            " [1. ]\n",
            " [1.5]\n",
            " [1.1]\n",
            " [1.8]\n",
            " [1.3]\n",
            " [1.5]\n",
            " [1.2]\n",
            " [1.3]\n",
            " [1.4]\n",
            " [1.4]\n",
            " [1.7]\n",
            " [1.5]\n",
            " [1. ]\n",
            " [1.1]\n",
            " [1. ]\n",
            " [1.2]\n",
            " [1.6]\n",
            " [1.5]\n",
            " [1.6]\n",
            " [1.5]\n",
            " [1.3]\n",
            " [1.3]\n",
            " [1.3]\n",
            " [1.2]\n",
            " [1.4]\n",
            " [1.2]\n",
            " [1. ]\n",
            " [1.3]\n",
            " [1.2]\n",
            " [1.3]\n",
            " [1.3]\n",
            " [1.1]\n",
            " [1.3]\n",
            " [2.5]\n",
            " [1.9]\n",
            " [2.1]\n",
            " [1.8]\n",
            " [2.2]\n",
            " [2.1]\n",
            " [1.7]\n",
            " [1.8]\n",
            " [1.8]\n",
            " [2.5]\n",
            " [2. ]\n",
            " [1.9]\n",
            " [2.1]\n",
            " [2. ]\n",
            " [2.4]\n",
            " [2.3]\n",
            " [1.8]\n",
            " [2.2]\n",
            " [2.3]\n",
            " [1.5]\n",
            " [2.3]\n",
            " [2. ]\n",
            " [2. ]\n",
            " [1.8]\n",
            " [2.1]\n",
            " [1.8]\n",
            " [1.8]\n",
            " [1.8]\n",
            " [2.1]\n",
            " [1.6]\n",
            " [1.9]\n",
            " [2. ]\n",
            " [2.2]\n",
            " [1.5]\n",
            " [1.4]\n",
            " [2.3]\n",
            " [2.4]\n",
            " [1.8]\n",
            " [1.8]\n",
            " [2.1]\n",
            " [2.4]\n",
            " [2.3]\n",
            " [1.9]\n",
            " [2.3]\n",
            " [2.5]\n",
            " [2.3]\n",
            " [1.9]\n",
            " [2. ]\n",
            " [2.3]\n",
            " [1.8]]\n"
          ]
        },
        {
          "output_type": "stream",
          "name": "stderr",
          "text": [
            "<ipython-input-33-fee1b6f09d06>:6: DeprecationWarning: `np.int` is a deprecated alias for the builtin `int`. To silence this warning, use `int` by itself. Doing this will not modify any behavior and is safe. When replacing `np.int`, you may wish to use e.g. `np.int64` or `np.int32` to specify the precision. If you wish to review your current use, check the release note link for additional information.\n",
            "Deprecated in NumPy 1.20; for more details and guidance: https://numpy.org/devdocs/release/1.20.0-notes.html#deprecations\n",
            "  y=(iris['target']==2).astype(np.int)\n"
          ]
        },
        {
          "output_type": "execute_result",
          "data": {
            "text/plain": [
              "array([0, 0, 0, 0, 0, 0, 0, 0, 0, 0, 0, 0, 0, 0, 0, 0, 0, 0, 0, 0, 0, 0,\n",
              "       0, 0, 0, 0, 0, 0, 0, 0, 0, 0, 0, 0, 0, 0, 0, 0, 0, 0, 0, 0, 0, 0,\n",
              "       0, 0, 0, 0, 0, 0, 0, 0, 0, 0, 0, 0, 0, 0, 0, 0, 0, 0, 0, 0, 0, 0,\n",
              "       0, 0, 0, 0, 0, 0, 0, 0, 0, 0, 0, 0, 0, 0, 0, 0, 0, 0, 0, 0, 0, 0,\n",
              "       0, 0, 0, 0, 0, 0, 0, 0, 0, 0, 0, 0, 1, 1, 1, 1, 1, 1, 1, 1, 1, 1,\n",
              "       1, 1, 1, 1, 1, 1, 1, 1, 1, 1, 1, 1, 1, 1, 1, 1, 1, 1, 1, 1, 1, 1,\n",
              "       1, 1, 1, 1, 1, 1, 1, 1, 1, 1, 1, 1, 1, 1, 1, 1, 1, 1])"
            ]
          },
          "metadata": {},
          "execution_count": 33
        }
      ]
    },
    {
      "cell_type": "code",
      "source": [
        "##train a logistic regression\n",
        "from sklearn.linear_model import LogisticRegression\n",
        "clf=LogisticRegression()\n",
        "clf.fit(x,y)\n",
        "example=clf.predict(([[1.8]]))\n",
        "print(example)\n",
        "import matplotlib.pyplot as plt\n",
        "X_new=np.linspace(0,3,1000).reshape(-1,1)\n",
        "y_prob=clf.predict_proba(X_new)\n",
        "plt.plot(X_new,y_prob[:,1],color='blue')\n",
        "plt.show()\n"
      ],
      "metadata": {
        "colab": {
          "base_uri": "https://localhost:8080/",
          "height": 448
        },
        "id": "4z-NUBvisUT7",
        "outputId": "f8267966-88b6-4186-a48b-3879312448a6"
      },
      "execution_count": null,
      "outputs": [
        {
          "output_type": "stream",
          "name": "stdout",
          "text": [
            "[1]\n"
          ]
        },
        {
          "output_type": "display_data",
          "data": {
            "text/plain": [
              "<Figure size 640x480 with 1 Axes>"
            ],
            "image/png": "[encoded data removed]"
          },
          "metadata": {}
        }
      ]
    }
  ]
}